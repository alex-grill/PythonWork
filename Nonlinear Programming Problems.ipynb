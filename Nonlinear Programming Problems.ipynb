{
 "cells": [
  {
   "cell_type": "markdown",
   "id": "ec5716d7",
   "metadata": {},
   "source": [
    "# ITOM 6264 - Advanced Decision Models\n",
    "*Alex Grill, Spring 2023*"
   ]
  },
  {
   "cell_type": "markdown",
   "id": "57724301",
   "metadata": {},
   "source": [
    "# Question 1\n",
    "\n",
    "An oil company must determine how many barrels of oil to extract during each of the next two years. If the company extracts $x_1$ million barrels during year 1, each barrel can be sold for $80-x_1$ dollars. If the company extracts $x_2$ million barrels during year 2, each barrel can be sold for $85-x_2$ dollars. The cost of extracting $x_1$ million barrels in year 1 is $2x_1^2$ million dollars, and the cost of extracting $x_2$ million barrels in year 2 is $3x_2^2$ million dollars. A total of 20 million barrels of oil are available, and at most \\$250 million can be spent on extraction. The company wants to maximize its profit (revenue - cost) for the next two years."
   ]
  },
  {
   "cell_type": "markdown",
   "id": "83550e31",
   "metadata": {},
   "source": [
    "**DV** \n",
    " - $x_1$ = million barrels during year 1 \n",
    " - $x_2$ = million barrels during year 2\n",
    "\n",
    "**OF**\n",
    "max $f(x_1, x_2) = ((80 - x_1)* x_1 + (85 - x_2) * x_2) - (2x_1^2 + 3x_2^2)$\n",
    "\n",
    "**Constraints**\n",
    "- $x_1 + x_2 <= 20$ \n",
    "- $2x_1^2 + 3x_2^2 <= 250$\n",
    "- $x_j\\geq 0$ for $j = 1,2$"
   ]
  },
  {
   "cell_type": "markdown",
   "id": "c8bd7b22",
   "metadata": {},
   "source": [
    "### Solve for the optimal solution using Pyomo\n"
   ]
  },
  {
   "cell_type": "code",
   "execution_count": 1,
   "id": "71a8bd41",
   "metadata": {},
   "outputs": [],
   "source": [
    "import matplotlib.pyplot as plt\n",
    "\n",
    "from pyomo.environ import *\n",
    "from pyomo.opt import SolverFactory\n",
    "solver = SolverFactory('ipopt')"
   ]
  },
  {
   "cell_type": "code",
   "execution_count": 2,
   "id": "e49ba9fc",
   "metadata": {},
   "outputs": [
    {
     "data": {
      "text/plain": [
       "{'Problem': [{'Lower bound': -inf, 'Upper bound': inf, 'Number of objectives': 1, 'Number of constraints': 2, 'Number of variables': 2, 'Sense': 'unknown'}], 'Solver': [{'Status': 'ok', 'Message': 'Ipopt 3.11.1\\\\x3a Optimal Solution Found', 'Termination condition': 'optimal', 'Id': 0, 'Error rc': 0, 'Time': 1.7586095333099365}], 'Solution': [OrderedDict([('number of solutions', 0), ('number of solutions displayed', 0)])]}"
      ]
     },
     "execution_count": 2,
     "metadata": {},
     "output_type": "execute_result"
    }
   ],
   "source": [
    "model = ConcreteModel()\n",
    "\n",
    "# Define the decision variables:\n",
    "model.x1 = Var(within=NonNegativeReals, bounds=(0,20), initialize=1.5)\n",
    "model.x2 = Var(within=NonNegativeReals, bounds=(0,20), initialize=1.5)\n",
    "\n",
    "# Objective function: \n",
    "def oil(model):\n",
    "    return ((80 - model.x1)*model.x1 \\\n",
    "            + (85 - model.x2)*model.x2) \\\n",
    "            - (2*model.x1**2 + 3*model.x2**2) \n",
    "\n",
    "# Amount of oil available constraint:\n",
    "def oilextract(model):\n",
    "    return model.x1 + model.x2 <= 20\n",
    "\n",
    "# Extraction budget constraint:\n",
    "def oilbudget(model):\n",
    "    return 2*model.x1**2 + 3*model.x2**2 <= 250\n",
    "\n",
    "model.obj = Objective(rule=oil, sense=maximize)\n",
    "model.oilextract = Constraint(rule=oilextract)\n",
    "model.oilbudget = Constraint(rule=oilbudget)\n",
    "\n",
    "solver.solve(model)"
   ]
  },
  {
   "cell_type": "code",
   "execution_count": 3,
   "id": "3a683856",
   "metadata": {},
   "outputs": [
    {
     "name": "stdout",
     "output_type": "stream",
     "text": [
      "*** Solution *** \n",
      "x1: 8.182905788933352\n",
      "x2: 6.22039945652549\n"
     ]
    }
   ],
   "source": [
    "print('*** Solution *** ')\n",
    "print('x1:', value(model.x1))\n",
    "print('x2:', value(model.x2))"
   ]
  },
  {
   "cell_type": "markdown",
   "id": "2dfeb8db",
   "metadata": {},
   "source": [
    "# Question 2\n",
    "\n",
    "A company has the following historical data on the number of ad exposures and the corresponding number of units sold of one of its products:\n",
    "\n",
    "|Ads |0| 20| 40| 60| 80| 100| 120| 140| 160| 180| 200| 220| 240| 260| 280| 300| 320| 340| 360| 380| 400|\n",
    "|:-:|:-:|:-:|:-:|:-:|:-:|:-:|:-:|:-:|:-:|:-:|:-:|:-:|:-:|:-:|:-:|:-:|:-:|:-:|:-:|:-:|:-:|\n",
    "|Units|3|18|34|46|56|65|72|78|82|85|90|90|93|94|95|101|98|100|98|101|105|\n"
   ]
  },
  {
   "cell_type": "markdown",
   "id": "d87670e4",
   "metadata": {},
   "source": [
    "## (a) Power fit\n"
   ]
  },
  {
   "cell_type": "markdown",
   "id": "cada628a",
   "metadata": {},
   "source": [
    "**DV** \n",
    "$a, b$ as coefficients of $f(x) = ax^b$\n",
    "\n",
    "**OF**\n",
    "min $e(a,b) = \\sum\\limits_{i=1}^{21} (ax_i^b - y_i)^2$, where $(x_i,y_i)$ is the $i^{th}$ data point (\\#ads, \\#units) \n",
    "\n",
    "**Constraints** \n",
    "NA"
   ]
  },
  {
   "cell_type": "markdown",
   "id": "f32f0328",
   "metadata": {},
   "source": [
    "### Solve for the optimal solution using Pyomo\n"
   ]
  },
  {
   "cell_type": "code",
   "execution_count": 4,
   "id": "150fa3c9",
   "metadata": {},
   "outputs": [],
   "source": [
    "ads = [i*20 for i in range(21)]\n",
    "units = [3,18,34,46,56,65,72,78,82,85,90,90,93,94,95,101,98,100,98,101,105]"
   ]
  },
  {
   "cell_type": "code",
   "execution_count": 5,
   "id": "45b6860a",
   "metadata": {},
   "outputs": [
    {
     "data": {
      "text/plain": [
       "{'Problem': [{'Lower bound': -inf, 'Upper bound': inf, 'Number of objectives': 1, 'Number of constraints': 0, 'Number of variables': 2, 'Sense': 'unknown'}], 'Solver': [{'Status': 'ok', 'Message': 'Ipopt 3.11.1\\\\x3a Optimal Solution Found', 'Termination condition': 'optimal', 'Id': 0, 'Error rc': 0, 'Time': 0.05841422080993652}], 'Solution': [OrderedDict([('number of solutions', 0), ('number of solutions displayed', 0)])]}"
      ]
     },
     "execution_count": 5,
     "metadata": {},
     "output_type": "execute_result"
    }
   ],
   "source": [
    "model = ConcreteModel()\n",
    "\n",
    "# Define the decision variables:\n",
    "model.a = Var(initialize = 1.5)\n",
    "model.b = Var(initialize = 1.5)\n",
    "\n",
    "# Objective function:\n",
    "def objective(model):\n",
    "    return sum(((model.a*ads[i]**model.b) - units[i])**2 \n",
    "               for i in range(21))\n",
    "\n",
    "model.obj = Objective(rule=objective, sense=minimize)\n",
    "\n",
    "solver.solve(model)"
   ]
  },
  {
   "cell_type": "code",
   "execution_count": 6,
   "id": "7fb45df9",
   "metadata": {},
   "outputs": [
    {
     "name": "stdout",
     "output_type": "stream",
     "text": [
      "*** Solution *** :\n",
      "a: 9.337115970369062\n",
      "b: 0.4117598792874509\n",
      "sum of squared error: 689.9341193115957\n"
     ]
    }
   ],
   "source": [
    "print('*** Solution *** :')\n",
    "print('a:', value(model.a))\n",
    "print('b:', value(model.b))\n",
    "print('sum of squared error:', model.obj())"
   ]
  },
  {
   "cell_type": "markdown",
   "id": "998b92e6",
   "metadata": {},
   "source": [
    "## (b) Exponential fit\n"
   ]
  },
  {
   "cell_type": "markdown",
   "id": "0b45654f",
   "metadata": {},
   "source": [
    "**DV** \n",
    "$a,b$ as coefficients of $f(x) = a(1- e^{-bx})$\n",
    "\n",
    "**OF** \n",
    "min $e(a,b) = \\sum\\limits_{i=1}^{21} (a(1- e^{-bx_i}) - y_i)^2$, where $(x_i,y_i)$ is the $i^{th}$ data point (\\#ads, \\#units)\n",
    "\n",
    "**Constraints** NA"
   ]
  },
  {
   "cell_type": "markdown",
   "id": "d4ff82e8",
   "metadata": {},
   "source": [
    "### Solve for the optimal solution using Pyomo\n"
   ]
  },
  {
   "cell_type": "code",
   "execution_count": 7,
   "id": "87719ecf",
   "metadata": {},
   "outputs": [
    {
     "data": {
      "text/plain": [
       "{'Problem': [{'Lower bound': -inf, 'Upper bound': inf, 'Number of objectives': 1, 'Number of constraints': 0, 'Number of variables': 2, 'Sense': 'unknown'}], 'Solver': [{'Status': 'ok', 'Message': 'Ipopt 3.11.1\\\\x3a Optimal Solution Found', 'Termination condition': 'optimal', 'Id': 0, 'Error rc': 0, 'Time': 0.0594630241394043}], 'Solution': [OrderedDict([('number of solutions', 0), ('number of solutions displayed', 0)])]}"
      ]
     },
     "execution_count": 7,
     "metadata": {},
     "output_type": "execute_result"
    }
   ],
   "source": [
    "model = ConcreteModel()\n",
    "\n",
    "# Define the decision variables:\n",
    "model.a = Var(initialize = 6)\n",
    "model.b = Var(initialize = 1)\n",
    "\n",
    "# Objective function:\n",
    "def objective(model):\n",
    "    return sum((model.a*(1-exp(-model.b*ads[i])) - units[i])**2 \n",
    "               for i in range(21))\n",
    "\n",
    "model.obj = Objective(rule=objective, sense=minimize)\n",
    "\n",
    "solver.solve(model)"
   ]
  },
  {
   "cell_type": "code",
   "execution_count": 8,
   "id": "6e8efa77",
   "metadata": {},
   "outputs": [
    {
     "name": "stdout",
     "output_type": "stream",
     "text": [
      "*** Solution *** :\n",
      "a: 103.4993439592276\n",
      "b: 0.009787489932294651\n",
      "sum of squared error: 48.66466230297779\n"
     ]
    }
   ],
   "source": [
    "print('*** Solution *** :')\n",
    "print('a:', value(model.a))\n",
    "print('b:', value(model.b))\n",
    "print('sum of squared error:', model.obj())"
   ]
  },
  {
   "cell_type": "markdown",
   "id": "b69cb2ec",
   "metadata": {},
   "source": [
    "### (c) Discussion\n",
    "\n",
    "In terms of fit, which of the two models is better? "
   ]
  },
  {
   "cell_type": "markdown",
   "id": "ad3be93f",
   "metadata": {},
   "source": [
    "The exponential fit model is better. The exponential fit model has a lower sum of squared error value (`48.6647`) between the observed and predicted number of units sold compared to the power fit model (`689.9341`)."
   ]
  },
  {
   "cell_type": "markdown",
   "id": "59076250",
   "metadata": {},
   "source": [
    "# Question 3\n",
    "\n",
    "Alex is a high school student who scored 75 out of 100 points in the math midterm exam, 20 out of 100 in the Spanish midterm exam, and 65 out of 100 in the physics  midterm exam. Alex has the option to hire private tutors to improve his exam scores. The table below estimates the score Alex will get in the final exams after attending a certain number of hours of tutor sessions and the rate of tutors for the three subjects respectively. The highest score one can get for each subject is 100 points. We assume that Alex will get the same grade in the final exams, i.e., 75 for math, 20 for Spanish and 65 for physics, if he does not hire tutors at all. Alex is able to spend at most 40 hours on tutoring sessions before the final exam.\n"
   ]
  },
  {
   "cell_type": "markdown",
   "id": "48f88249",
   "metadata": {},
   "source": [
    "### (a) Formulate the optimization problem\n",
    "\n",
    "\n",
    "Alex wants to maximize the total score of the three subjects in the final exams and minimize the tuition fees (cost of hiring private tutors). Formulate the problem as a single-objective optimization problem.\n"
   ]
  },
  {
   "cell_type": "markdown",
   "id": "55aefd02",
   "metadata": {},
   "source": [
    "**DV** \n",
    "- $x_m$: Number of hours of Math tutoring sessions\n",
    "- $x_s$: Number of hours of Spanish tutoring sessions\n",
    "- $x_p$: Number of hours of Physics tutoring sessions\n",
    "\n",
    "**OF**\n",
    "    max $f(x_m, x_s, x_p)$ =  $75 + x_m - \\frac{1}{10}x_s^2 + 6x_s + 20 + 85 - 20e^{-\\frac{x_m + x_p}{20}}$ - $\\theta$($50x_m + 40x_s + 60x_p)$\n",
    "\n",
    "**Constraints** \n",
    "- $x_m + x_s + x_p \\leq 40$ (total number of hours spent on tutoring sessions cannot exceed 40)\n",
    "- $x_m \\geq 0, x_s \\geq 0, x_p \\geq 0$ (number of hours spent on tutoring sessions must be non-negative)\n",
    "- $\\theta \\geq 0$ (linearization parameter must be non-negative)"
   ]
  },
  {
   "cell_type": "markdown",
   "id": "433bfed7",
   "metadata": {},
   "source": [
    "### (b) Re-formulate the optimization problem \n",
    "\n",
    "Now suppose that Alex wants to maximize the total score of the three subjects and is no longer concerned by tuition fees. Reformulate the problem and approximate the problem by linearizing the problem using piece-wise linear functions. \n"
   ]
  },
  {
   "cell_type": "markdown",
   "id": "4f708ed0",
   "metadata": {},
   "source": [
    "**$\\lambda$-Method:**\n",
    "\n",
    "***Step 1: Separate objective function***\n",
    "\n",
    "- $f(x_m) = 75 + x_m$ \n",
    "- $f(x_s) = -.10x_s^2 + 6x_s +20$ \n",
    "- $f(x_a) = 85 - 20e^{-\\frac{x_a}{20}}$\n",
    "    - (where $x_m + x_p = x_a$)\n",
    "\n",
    "***Step 2: Check convexity/concavity***\n",
    "\n",
    "- $f(x_m)$: (A linear function is both convex and concave)\n",
    "- $f(x_s)$: (This function is concave as f''(x) = -0.2 which is  less than 0)\n",
    "- $f(x_a)$: (This function is concave as f''(x) = $-(e^{-\\frac{x_a}{20}})/20$ which will always be negative and therefore less than 0)\n",
    "\n",
    "***Step 3: Determine region for approximation***\n",
    "\n",
    "- $0 \\leq f(x_m) \\leq 25$ \n",
    "- $0 \\leq f(x_s) \\leq 20$ \n",
    "- $0 \\leq f(x_a) \\leq 40$ \n",
    "\n",
    "\n",
    "***Step 4: Approximate separable functions***\n",
    "\n",
    "- $f(x_m)$: \n",
    "    - $\\lambda_{10}$ = (0,75)\n",
    "    - $\\lambda_{11}$ = (25,100)\n",
    "\n",
    "- $f(x_s)$: \n",
    "    - $\\lambda_{20}$ = (0,20)\n",
    "    - $\\lambda_{21}$ = (7,57.1)\n",
    "    - $\\lambda_{22}$ = (14,84.4)\n",
    "    - $\\lambda_{23}$ = (20,100)\n",
    "    \n",
    "- $f(x_a)$: \n",
    "    - $\\lambda_{30}$ = (0,65)\n",
    "    - $\\lambda_{31}$ = (15,75.553)\n",
    "    - $\\lambda_{32}$ = (30,80.537)\n",
    "    - $\\lambda_{33}$ = (40,82.293) \n",
    "\n",
    "\n",
    "**Problem Formulation:**\n",
    "\n",
    "**DV** \n",
    "\n",
    "- $\\lambda_{10}$, $\\lambda_{11}$\n",
    "\n",
    "- $\\lambda_{20}$, $\\lambda_{21}$, $\\lambda_{22}$, $\\lambda_{23}$\n",
    "\n",
    "- $\\lambda_{30}$, $\\lambda_{31}$, $\\lambda_{32}$, $\\lambda_{33}$\n",
    "\n",
    "\n",
    "**OF**\n",
    "Max: $f(x_m) + f(x_s) + f(x_a)$\n",
    "\n",
    "- $f(x_m) = 75\\lambda_{10} + 100\\lambda_{11}$\n",
    "- $f(x_s) = 20\\lambda_{20} + 57.1\\lambda_{21} + 84.4\\lambda_{22} + 100\\lambda_{23}$\n",
    "- $f(x_a) = 65\\lambda_{30} + 75.553\\lambda_{31} + 80.537\\lambda_{32} + 82.293\\lambda_{33}$\n",
    "\n",
    "\n",
    "\n",
    "**Constraints** \n",
    "- $x_a + x_s \\leq 40$ (total number of hours spent on tutoring sessions cannot exceed 40)\n",
    "    - therefore 0$\\lambda_{30} + 15\\lambda_{31} + 30\\lambda_{32} + 40\\lambda_{33}$ + 0$\\lambda_{20} + 7\\lambda_{21} + 14\\lambda_{22} + 20\\lambda_{23}$ $\\leq 40$\n",
    "\n",
    "\n",
    "- $x_m \\geq 0, x_s \\geq 0, x_p \\geq 0$ (number of hours spent on tutoring sessions must be non-negative)\n",
    "    - therefore for $x_m$: $0\\lambda_{10} + 25\\lambda_{11} \\geq 0$\n",
    "    - therefore for $x_s$: $0\\lambda_{20} + 7\\lambda_{21} + 14\\lambda_{22} + 20\\lambda_{23} \\geq 0$\n",
    "    - therefore for $x_p = x_a - x_m$: $0\\lambda_{30} + 15\\lambda_{31} + 30\\lambda_{32} + 40\\lambda_{33} - 0\\lambda_{10} - 25\\lambda_{11} \\geq 0$\n",
    "    \n",
    "\n",
    "\n",
    "- $\\lambda_{10} + \\lambda_{11}$ = 1\n",
    "- $\\lambda_{20} + \\lambda_{21} + \\lambda_{22} + \\lambda_{23}$ = 1\n",
    "- $\\lambda_{30} + \\lambda_{31} + \\lambda_{32} + \\lambda_{33}$ = 1\n",
    "- $\\lambda_{10}, \\lambda_{11}, \\lambda_{20}, \\lambda_{21}, \\lambda_{22}, \\lambda_{23}, \\lambda_{30}, \\lambda_{31}, \\lambda_{32}, \\lambda_{33} \\geq 0$\n"
   ]
  },
  {
   "cell_type": "markdown",
   "id": "dbb1355e",
   "metadata": {},
   "source": [
    "### (c) Solve for the optimal solution\n"
   ]
  },
  {
   "cell_type": "code",
   "execution_count": 9,
   "id": "61af5803",
   "metadata": {},
   "outputs": [
    {
     "name": "stdout",
     "output_type": "stream",
     "text": [
      "*** Solution *** :\n",
      "la10:  0.19999999442491895\n",
      "la11:  0.8000000055750811\n",
      "la20:  0.0\n",
      "la21:  0.0\n",
      "la22:  1.0151546749075471e-08\n",
      "la23:  1.0\n",
      "la30:  0.0\n",
      "la31:  0.6666666713586896\n",
      "la32:  0.3333333466020663\n",
      "la33:  0.0\n",
      "Math Final Exam Score:  95.00000013937704\n",
      "Spanish Final Exam Score:  100.00000085679055\n",
      "Physics Final Exam Score:  77.20100142302653\n",
      "Optimal 3-Subject Total Score:  272.2010024191941\n",
      "Number of hours of Math tutoring sessions:  20.00000013937703\n",
      "Number of hours of Spanish tutoring sessions:  20.000000142121653\n",
      "Number of hours of Physics tutoring sessions:  3.2906530478271634e-07\n",
      "Total tutoring session hours:  40.00000061056399\n"
     ]
    }
   ],
   "source": [
    "model = ConcreteModel()\n",
    "\n",
    "# Define the decision variables\n",
    "\n",
    "#Function Xm\n",
    "model.la10 = Var(initialize=.25, bounds=(0,1))\n",
    "model.la11 = Var(initialize=.25, bounds=(0,1))\n",
    "\n",
    "#Function Xs\n",
    "model.la20 = Var(initialize=.25, bounds=(0,1))\n",
    "model.la21 = Var(initialize=.25, bounds=(0,1))\n",
    "model.la22 = Var(initialize=.25, bounds=(0,1))\n",
    "model.la23 = Var(initialize=.25, bounds=(0,1))\n",
    "\n",
    "#Function Xa\n",
    "model.la30 = Var(initialize=.25, bounds=(0,1))\n",
    "model.la31 = Var(initialize=.25, bounds=(0,1))\n",
    "model.la32 = Var(initialize=.25, bounds=(0,1))\n",
    "model.la33 = Var(initialize=.25, bounds=(0,1))\n",
    "\n",
    "\n",
    "\n",
    "# Define the objective function\n",
    "def scores(model):\n",
    "    return 75*model.la10 + 100*model.la11 \\\n",
    "            + 20*model.la20 + 57.1*model.la21 + 84.4*model.la22 + 100*model.la23 \\\n",
    "            + 65*model.la30 + 75.533*model.la31 \\\n",
    "            + 80.537*model.la32 + 82.293*model.la33\n",
    "\n",
    "# Define constraint hours:\n",
    "def constrainthours(model): \n",
    "    return 0*model.la30 + 15*model.la31 + 30*model.la32 + 40*model.la33 \\\n",
    "            + 0*model.la20 + 7*model.la21 + 14*model.la22 + 20*model.la23 <= 40\n",
    "\n",
    "# Define constraint xm hours greater than or equal to 0:\n",
    "def constraint0xm(model): \n",
    "    return 0*model.la10 + 25*model.la11 >= 0\n",
    "\n",
    "# Define constraint xs hours greater than or equal to 0:\n",
    "def constraint0xs(model): \n",
    "    return 0*model.la20 + 7*model.la21 + 14*model.la22 + 20*model.la23 >= 0\n",
    "\n",
    "# Define constraint xp = xa - xm hours greater than or equal to 0:\n",
    "def constraint0xp(model): \n",
    "    return 0*model.la30 + 15*model.la31 + 30*model.la32 + 40*model.la33 \\\n",
    "            - 0*model.la10 - 25*model.la11 >= 0\n",
    "\n",
    "# Define constraint sum xm lamdba equal to 1:\n",
    "def constraintxm(model): \n",
    "    return model.la10 + model.la11 == 1\n",
    "\n",
    "# Define constraint sum xs lamdba equal to 1:\n",
    "def constraintxs(model): \n",
    "    return model.la20 + model.la21 + model.la22 + model.la23 == 1\n",
    "\n",
    "# Define constraint sum xa lamdba equal to 1:\n",
    "def constraintxa(model): \n",
    "    return model.la30 + model.la31 + model.la32 + model.la33 == 1\n",
    "\n",
    "\n",
    "model.obj = Objective(rule=scores, sense=maximize)\n",
    "model.con1 = Constraint(rule=constrainthours)\n",
    "model.con2 = Constraint(rule=constraint0xm)\n",
    "model.con3 = Constraint(rule=constraint0xs)\n",
    "model.con4 = Constraint(rule=constraint0xp)\n",
    "model.con5 = Constraint(rule=constraintxm)\n",
    "model.con6 = Constraint(rule=constraintxs)\n",
    "model.con7 = Constraint(rule=constraintxa)\n",
    "\n",
    "solver.solve(model)\n",
    "\n",
    "# Print the solution\n",
    "print('*** Solution *** :')\n",
    "print(\"la10: \", value(model.la10))\n",
    "print(\"la11: \", value(model.la11))\n",
    "print(\"la20: \", value(model.la20))\n",
    "print(\"la21: \", value(model.la21))\n",
    "print(\"la22: \", value(model.la22))\n",
    "print(\"la23: \", value(model.la23))\n",
    "print(\"la30: \", value(model.la30))\n",
    "print(\"la31: \", value(model.la31))\n",
    "print(\"la32: \", value(model.la32))\n",
    "print(\"la33: \", value(model.la33))\n",
    "print(\"Math Final Exam Score: \", \\\n",
    "      value(75*model.la10 + 100*model.la11))\n",
    "print(\"Spanish Final Exam Score: \", \\\n",
    "      value(20*model.la20 + 57.1*model.la21 + 84.4*model.la22 + 100*model.la23))\n",
    "print(\"Physics Final Exam Score: \", \\\n",
    "      value(65*model.la30 + 75.533*model.la31 \\\n",
    "            + 80.537*model.la32 + 82.293*model.la33))\n",
    "print(\"Optimal 3-Subject Total Score: \", value(model.obj))\n",
    "print(\"Number of hours of Math tutoring sessions: \", value(model.con2))\n",
    "print(\"Number of hours of Spanish tutoring sessions: \", value(model.con3))\n",
    "print(\"Number of hours of Physics tutoring sessions: \", value(model.con4))\n",
    "print(\"Total tutoring session hours: \", value(model.con1))"
   ]
  },
  {
   "cell_type": "markdown",
   "id": "d065369e",
   "metadata": {},
   "source": [
    "# Question 4\n",
    "\n",
    "A startup company needs to increase its sales of a product through advertisements. If the company spends $a$ (measured in thousands of dollars) on advertising and charges a price of $p=10+0.38a$ dollars per unit, then it can sell $1000-10p+20\\sqrt{a}$  units of the product. The cost per unit of producing the product is $6. Help the company find at least 10 Pareto-optimal solutions and plot the Pareto-optimal frontier between the objectives of maximizing profit and maximizing the number of units sold."
   ]
  },
  {
   "cell_type": "markdown",
   "id": "d27412ca",
   "metadata": {},
   "source": [
    "### (a) Problem Formulation"
   ]
  },
  {
   "cell_type": "markdown",
   "id": "7c541014",
   "metadata": {},
   "source": [
    "**DV** \n",
    "\n",
    "- $x_a=$ amount spent $a$ (in thousands of dollars) on advertisements\n",
    "\n",
    "- $x_p=$ charge price per unit\n",
    "\n",
    "\n",
    "\n",
    "**OF**\n",
    "- max $sales(units)  = f_1 = {1000 - 10x_p + 20\\sqrt{x_a}}$\n",
    "- max $profit = f_2 = ((x_p - 6) * {1000 - 10x_p + 20\\sqrt{x_a}}) - (1000 * x_a)$\n",
    "\n",
    "\n",
    "**Constraints**\n",
    "- $x_a \\geq 0$\n",
    "- $x_p \\geq 0$\n",
    "- $x_p = 10 + 0.38x_a$\n",
    "- $f_1 \\geq 0$"
   ]
  },
  {
   "cell_type": "markdown",
   "id": "312a3884",
   "metadata": {},
   "source": [
    "### (b) Determine extreme points"
   ]
  },
  {
   "cell_type": "code",
   "execution_count": 10,
   "id": "6ac4b68d",
   "metadata": {},
   "outputs": [],
   "source": [
    "model = ConcreteModel()\n",
    "\n",
    "\n",
    "model.a = Var(within=NonNegativeReals, initialize = 1)\n",
    "model.p = Var(within=NonNegativeReals, initialize = 1)\n",
    "\n",
    "model.ConPrice = Constraint(expr = model.p == 10 + .38*model.a)\n",
    "\n",
    "\n",
    "\"\"\"for convenience, we define two more variables: the value of OFs:\"\"\"\n",
    "\n",
    "model.sales = Var(within=NonNegativeReals)\n",
    "model.profit = Var()\n",
    "\n",
    "model.ConSales = Constraint(expr= model.sales == \\\n",
    "                            1000 - 10 * model.p + 20 * sqrt(model.a))\n",
    "model.ConProfit = Constraint(expr= model.profit == (model.p - 6)\\\n",
    "                             * (1000 - 10 * model.p + 20\\\n",
    "                                * sqrt(model.a )) - (1000 * model.a))\n",
    "\n",
    "\n",
    "\n",
    "model.obj1 = Objective(expr= model.sales, sense=maximize)\n",
    "model.obj2 = Objective(expr= model.profit, sense=maximize)"
   ]
  },
  {
   "cell_type": "code",
   "execution_count": 11,
   "id": "e3c691dc",
   "metadata": {},
   "outputs": [
    {
     "name": "stdout",
     "output_type": "stream",
     "text": [
      "*** Solution for highest sales (ignoring profit) *** :\n",
      "advertising spending (in thousands of dollars) =  6.925207757826252\n",
      "charge price per unit (in dollars) =  12.631578947973976\n",
      "sales (units) =  926.3157894736844\n",
      "profit =  -782.2714691766738\n"
     ]
    }
   ],
   "source": [
    "#Maximize f1 = sales and ignore f2 = profit \n",
    "\n",
    "model.obj2.deactivate()\n",
    "\n",
    "solver.solve(model);\n",
    "\n",
    "print('*** Solution for highest sales (ignoring profit) *** :')\n",
    "print('advertising spending (in thousands of dollars) = ', model.a())\n",
    "print('charge price per unit (in dollars) = ', model.p())\n",
    "print('sales (units) = ', model.sales())\n",
    "print('profit = ', model.profit())\n",
    "\n",
    "      \n",
    "sales_max1 = value(model.sales)\n",
    "profit_max1 = value(model.profit)"
   ]
  },
  {
   "cell_type": "code",
   "execution_count": 12,
   "id": "76f11380",
   "metadata": {},
   "outputs": [
    {
     "name": "stdout",
     "output_type": "stream",
     "text": [
      "*** Solution for highest sales (ignoring profit) *** :\n",
      "advertising spending (in thousands of dollars) =  0.003537478767355662\n",
      "charge price per unit (in dollars) =  10.001344241931594\n",
      "sales (units) =  901.1760917361177\n",
      "profit =  3602.3782868673766\n"
     ]
    }
   ],
   "source": [
    "#Maximize f2 = profit and ignore f1 = sales\n",
    "\n",
    "model.obj2.activate()\n",
    "model.obj1.deactivate()\n",
    "solver.solve(model);\n",
    "\n",
    "print('*** Solution for highest sales (ignoring profit) *** :')\n",
    "print('advertising spending (in thousands of dollars) = ', model.a())\n",
    "print('charge price per unit (in dollars) = ', model.p())\n",
    "print('sales (units) = ', model.sales())\n",
    "print('profit = ', model.profit())\n",
    "\n",
    "      \n",
    "sales_max2 = value(model.sales)\n",
    "profit_max2 = value(model.profit)"
   ]
  },
  {
   "cell_type": "code",
   "execution_count": 13,
   "id": "12891b0b",
   "metadata": {},
   "outputs": [
    {
     "data": {
      "image/png": "[encoded data removed]",
      "text/plain": [
       "<Figure size 432x288 with 1 Axes>"
      ]
     },
     "metadata": {
      "needs_background": "light"
     },
     "output_type": "display_data"
    }
   ],
   "source": [
    "extreme_f1 = [sales_max1, sales_max2]\n",
    "extreme_f2 = [profit_max1, profit_max2]  \n",
    "plt.scatter(extreme_f1, extreme_f2)\n",
    "plt.title('Extreme Points');\n",
    "plt.xlabel('Sales (maximize)')\n",
    "plt.ylabel('Profit (maximize)')\n",
    "plt.grid(True);"
   ]
  },
  {
   "cell_type": "markdown",
   "id": "da781a7f",
   "metadata": {},
   "source": [
    "### (c) Find Pareto-optimal points and plot the Pareto frontier"
   ]
  },
  {
   "cell_type": "code",
   "execution_count": 14,
   "id": "c5708461",
   "metadata": {},
   "outputs": [
    {
     "name": "stdout",
     "output_type": "stream",
     "text": [
      "Pareto-optimal solutions: [(901.1762393388809, 3602.3782868673766), (914.5277406153614, 3163.9133112629715), (918.6086678958981, 2725.4483356585665), (921.1568207236687, 2286.9833600541615), (922.9097213754104, 1848.5183844497565), (924.1537087129227, 1410.0534088453514), (925.0359645237921, 971.5884332409464), (925.644114802831, 533.1234576365414), (926.0353774461358, 94.65848203213636), (926.2495819050746, -343.80649357226866), (926.3157894736842, -782.2714691766737)]\n"
     ]
    },
    {
     "data": {
      "image/png": "[encoded data removed]",
      "text/plain": [
       "<Figure size 432x288 with 1 Axes>"
      ]
     },
     "metadata": {
      "needs_background": "light"
     },
     "output_type": "display_data"
    }
   ],
   "source": [
    "#maximize f1 = sales(units) given f2 = profit levels\n",
    "\n",
    "model.obj1.activate()\n",
    "model.obj2.deactivate()\n",
    "\n",
    "model.epsilon = Param(mutable=True) \n",
    "model.ConEpsilon = Constraint(expr = model.profit == model.epsilon)\n",
    "\n",
    "n = 10\n",
    "interval = (profit_max1 - profit_max2) / n\n",
    "profit_levels = [profit_max2 + k*interval for k in range(n+1) ]\n",
    "\n",
    "sales_pareto = []\n",
    "for level in profit_levels:\n",
    "    model.epsilon = level\n",
    "    solver.solve(model);\n",
    "    sales_pareto.append(value(model.sales))\n",
    "\n",
    "\"\"\"Pareto-optimal points:\"\"\"\n",
    "Pareto = [(sales_pareto[k],profit_levels[k]) for k in range(n+1)]\n",
    "print('Pareto-optimal solutions:', Pareto)\n",
    "    \n",
    "plt.plot(sales_pareto, profit_levels,'o-.');\n",
    "plt.title('Pareto Frontier');\n",
    "plt.xlabel('Sales (maximize)')\n",
    "plt.ylabel('Profit (maximize)')\n",
    "plt.grid(True);"
   ]
  },
  {
   "cell_type": "markdown",
   "id": "d5083c6f",
   "metadata": {},
   "source": [
    "### (d) Discussion\n",
    "\n",
    "Suppose the startup company now decides that although both objectives are important, maximizing the number of units sold is more important than maximizing profit. What suggestions would you give to the company based on the produced results?"
   ]
  },
  {
   "cell_type": "markdown",
   "id": "821623a4",
   "metadata": {},
   "source": [
    "I would advise against this decision. The analysis shows that maximizing for units sold and disregarding profit leads to selling 926 units but only making 94.66 dollars in profit (i.e., looking at the point on the Pareto Frontier nearest 926, since you cannot sell a fraction of a unit). In this formulation the company massively over spends on advertising for only marginally more units sold. If instead the company chose to prioritize profit the company would sell 901 units but would record 3,602.38 dollars in profit. That means with a decrease of 25 units sold, the company would gain 3,507.72 dollars in profit. Considering this, the startup could still find it acceptable to sacrifice some profit in order to sell more units, and in that case we would recommend one of the points plotted on the Pareto Frontier graph. Which point they choose would come down to the weight that they assign to each function, and which function will help them better achieve their strategic goals."
   ]
  },
  {
   "cell_type": "markdown",
   "id": "c8d7a0ff",
   "metadata": {},
   "source": [
    "# Question 5\n",
    "\n",
    "Hiland Appliance must determine how many TVs and Blu-Ray disc players to stock. It costs Hiland \\\\$1000 to purchase a TV and \\\\$200 to purchase a Blu-Ray player. A TV requires three square yards of storage space, and a Blu-ray disc player requires one square yard. The sale of a TV earns Hiland a profit of \\\\$150, and each Blu-ray disc player sale earns a profit of \\\\$50. Hiland has set the following goals (listed in order of importance):\n",
    "\n",
    "- Goal 1: A maximum of \\\\$60,000 can be spent on purchasing TVs and Blu-ray disc players.\n",
    "- Goal 2: Maximize profit from the sale of TVs and Blu-ray disc players.\n",
    "- Goal 3: Minimize storage space for TVs and Blu-ray disc players."
   ]
  },
  {
   "cell_type": "markdown",
   "id": "e26a2539",
   "metadata": {},
   "source": [
    "### (a) Formulate the problem"
   ]
  },
  {
   "cell_type": "markdown",
   "id": "3f7686c5",
   "metadata": {},
   "source": [
    "**Lexicographic Method:**\n",
    "\n",
    "**Step 1: find $y_2^*$ by optimizing $f_1$ = profit(dollars)**\n",
    "\n",
    "**DV** \n",
    "\n",
    "- $x_1=$ amount of TV's stocked\n",
    "\n",
    "- $x_2=$ amount of Blu-Ray disc players stocked\n",
    "\n",
    "\n",
    "**OF** \n",
    "- max $profit (dollars) = f_1 = (150 * x_1) + (50 * x_2)$\n",
    "\n",
    "\n",
    "**Constraints**\n",
    "- $x_1 \\geq 0$\n",
    "- $x_2 \\geq 0$\n",
    "- $(1000 * x_1) + (200 * x_2) \\leq 60,000$\n",
    "\n",
    "\n",
    "**Step 2: optimizing $f_2$ = storage(sq. yards) with additional constraint containing $y_2^*$**\n",
    "\n",
    "**DV** \n",
    "\n",
    "- $x_1=$ amount of TV's stocked\n",
    "\n",
    "- $x_2=$ amount of Blu-Ray disc players stocked\n",
    "\n",
    "**OF** \n",
    "- min $storage (sq. yards) = f_2 = (3 * x_1) + x_2$\n",
    "\n",
    "\n",
    "**Constraints**\n",
    "- $(150 * x_1) + (50 * x_2)\\geq y_2^*$\n",
    "- $x_1 \\geq 0$\n",
    "- $x_2 \\geq 0$\n",
    "- $(1000 * x_1) + (200 * x_2) \\leq 60,000$\n",
    "- $f_2 \\geq 0$"
   ]
  },
  {
   "cell_type": "markdown",
   "id": "f359783a",
   "metadata": {},
   "source": [
    "### (b) Find a Pareto-optimal point"
   ]
  },
  {
   "cell_type": "code",
   "execution_count": 15,
   "id": "9fb3b113",
   "metadata": {},
   "outputs": [],
   "source": [
    "model = ConcreteModel()\n",
    "\n",
    "\n",
    "model.x1 = Var(within=NonNegativeReals, initialize = 1)\n",
    "model.x2 = Var(within=NonNegativeReals, initialize = 1)\n",
    "\n",
    "\n",
    "\"\"\"for convenience, we define two more variables: the value of OFs:\"\"\"\n",
    "\n",
    "model.profit = Var()\n",
    "model.storage = Var(within=NonNegativeReals)\n",
    "\n",
    "\n",
    "model.ConProfit = Constraint(expr = model.profit == (150 * model.x1)\\\n",
    "                             + (50 * model.x2))\n",
    "model.ConStorage = Constraint(expr = model.storage == (3 * model.x1)\\\n",
    "                              + model.x2)\n",
    "\n",
    "# Adding this constraint ensures that maximum spend (Goal #1)\n",
    "# is taken care of above all else \n",
    "model.ConPurchases = Constraint(expr = (1000 * model.x1)\\\n",
    "                                + (200 * model.x2) <= 60000)\n",
    "\n",
    "\n",
    "model.obj1 = Objective(expr= model.profit, sense=maximize)\n",
    "model.obj2 = Objective(expr= model.storage, sense=minimize)"
   ]
  },
  {
   "cell_type": "code",
   "execution_count": 16,
   "id": "d1f83bb5",
   "metadata": {},
   "outputs": [
    {
     "name": "stdout",
     "output_type": "stream",
     "text": [
      "*** Solution for maximized profit (ignoring storage) *** :\n",
      "Number of TVs stocked:  0.0\n",
      "Number of Blu-Ray disc players stocked:  300.00000304982456\n",
      "Total spent on stock purchases (dollars):  60000.00060996491\n",
      "Total profit (dollars):  15000.000150994987\n",
      "Total storage (sq. yards):  300.0000030198997\n"
     ]
    }
   ],
   "source": [
    "#Lexicogrpahic Method Step 1 \n",
    "    #This code deactivates f2 = min storage(sq. yards) and \n",
    "    # activates f1 = max profit(dollars)\n",
    "\n",
    "model.obj2.deactivate()\n",
    "model.obj1.activate()\n",
    "\n",
    "solver.solve(model);\n",
    "\n",
    "print('*** Solution for maximized profit (ignoring storage) *** :')\n",
    "print('Number of TVs stocked: ', model.x1())\n",
    "print('Number of Blu-Ray disc players stocked: ', model.x2())\n",
    "print('Total spent on stock purchases (dollars): ', model.ConPurchases())\n",
    "print('Total profit (dollars): ', model.profit())\n",
    "print('Total storage (sq. yards): ', model.storage())\n",
    "\n",
    "\n",
    "profit_max = value(model.profit)\n",
    "storage_max = value(model.storage)"
   ]
  },
  {
   "cell_type": "code",
   "execution_count": 17,
   "id": "cc1bf1ea",
   "metadata": {},
   "outputs": [
    {
     "name": "stdout",
     "output_type": "stream",
     "text": [
      "*** Solution for minimized storage (with max profit level) *** :\n",
      "Number of TVs stocked:  7.567542649826714e-07\n",
      "Number of Blu-Ray disc players stocked:  299.999997752763\n",
      "Total spent on stock purchases (dollars):  60000.000307306866\n",
      "Total profit (dollars):  15000.000001151291\n",
      "Total storage (sq. yards):  300.0000000230258\n"
     ]
    }
   ],
   "source": [
    "#Lexicographic Method Step 2 \n",
    "    #This code deactivates f1 = max profit(dollars) and \n",
    "    # activates f2 = min storage(sq. yards)\n",
    "        \n",
    "model.obj1.deactivate()\n",
    "model.obj2.activate()\n",
    "\n",
    "#Adding this constraint ensures that maximizing profit (Goal #2)\n",
    "# is prioritized before minimizing storage (Goal #3)\n",
    "model.ConProfitBest = Constraint(expr = model.profit >= profit_max)\n",
    "\n",
    "solver.solve(model)\n",
    "\n",
    "print('*** Solution for minimized storage (with max profit level) *** :')\n",
    "print('Number of TVs stocked: ', model.x1())\n",
    "print('Number of Blu-Ray disc players stocked: ', model.x2())\n",
    "print('Total spent on stock purchases (dollars): ', model.ConPurchases())\n",
    "print('Total profit (dollars): ', model.profit())\n",
    "print('Total storage (sq. yards): ', model.storage())\n",
    "\n",
    "\n",
    "profit_max = value(model.profit)\n",
    "storage_max = value(model.storage)"
   ]
  }
 ],
 "metadata": {
  "kernelspec": {
   "display_name": "Python 3 (ipykernel)",
   "language": "python",
   "name": "python3"
  },
  "language_info": {
   "codemirror_mode": {
    "name": "ipython",
    "version": 3
   },
   "file_extension": ".py",
   "mimetype": "text/x-python",
   "name": "python",
   "nbconvert_exporter": "python",
   "pygments_lexer": "ipython3",
   "version": "3.9.12"
  }
 },
 "nbformat": 4,
 "nbformat_minor": 5
}
