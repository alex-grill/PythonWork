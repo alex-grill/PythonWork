{
 "cells": [
  {
   "cell_type": "markdown",
   "id": "1cb8692b",
   "metadata": {},
   "source": [
    "# ITOM 6267 - Data Mining\n",
    "*Alex Grill, Fall 2022*"
   ]
  },
  {
   "cell_type": "code",
   "execution_count": 1,
   "id": "44f5ab93",
   "metadata": {},
   "outputs": [
    {
     "data": {
      "text/html": [
       "<div>\n",
       "<style scoped>\n",
       "    .dataframe tbody tr th:only-of-type {\n",
       "        vertical-align: middle;\n",
       "    }\n",
       "\n",
       "    .dataframe tbody tr th {\n",
       "        vertical-align: top;\n",
       "    }\n",
       "\n",
       "    .dataframe thead th {\n",
       "        text-align: right;\n",
       "    }\n",
       "</style>\n",
       "<table border=\"1\" class=\"dataframe\">\n",
       "  <thead>\n",
       "    <tr style=\"text-align: right;\">\n",
       "      <th></th>\n",
       "      <th>0</th>\n",
       "      <th>1</th>\n",
       "      <th>2</th>\n",
       "      <th>3</th>\n",
       "      <th>4</th>\n",
       "      <th>5</th>\n",
       "      <th>6</th>\n",
       "      <th>7</th>\n",
       "      <th>8</th>\n",
       "      <th>9</th>\n",
       "      <th>10</th>\n",
       "      <th>11</th>\n",
       "      <th>12</th>\n",
       "      <th>13</th>\n",
       "      <th>14</th>\n",
       "    </tr>\n",
       "  </thead>\n",
       "  <tbody>\n",
       "    <tr>\n",
       "      <th>0</th>\n",
       "      <td>39</td>\n",
       "      <td>State-gov</td>\n",
       "      <td>77516</td>\n",
       "      <td>Bachelors</td>\n",
       "      <td>13</td>\n",
       "      <td>Never-married</td>\n",
       "      <td>Adm-clerical</td>\n",
       "      <td>Not-in-family</td>\n",
       "      <td>White</td>\n",
       "      <td>Male</td>\n",
       "      <td>2174</td>\n",
       "      <td>0</td>\n",
       "      <td>40</td>\n",
       "      <td>United-States</td>\n",
       "      <td>&lt;=50K</td>\n",
       "    </tr>\n",
       "    <tr>\n",
       "      <th>1</th>\n",
       "      <td>50</td>\n",
       "      <td>Self-emp-not-inc</td>\n",
       "      <td>83311</td>\n",
       "      <td>Bachelors</td>\n",
       "      <td>13</td>\n",
       "      <td>Married-civ-spouse</td>\n",
       "      <td>Exec-managerial</td>\n",
       "      <td>Husband</td>\n",
       "      <td>White</td>\n",
       "      <td>Male</td>\n",
       "      <td>0</td>\n",
       "      <td>0</td>\n",
       "      <td>13</td>\n",
       "      <td>United-States</td>\n",
       "      <td>&lt;=50K</td>\n",
       "    </tr>\n",
       "    <tr>\n",
       "      <th>2</th>\n",
       "      <td>38</td>\n",
       "      <td>Private</td>\n",
       "      <td>215646</td>\n",
       "      <td>HS-grad</td>\n",
       "      <td>9</td>\n",
       "      <td>Divorced</td>\n",
       "      <td>Handlers-cleaners</td>\n",
       "      <td>Not-in-family</td>\n",
       "      <td>White</td>\n",
       "      <td>Male</td>\n",
       "      <td>0</td>\n",
       "      <td>0</td>\n",
       "      <td>40</td>\n",
       "      <td>United-States</td>\n",
       "      <td>&lt;=50K</td>\n",
       "    </tr>\n",
       "    <tr>\n",
       "      <th>3</th>\n",
       "      <td>53</td>\n",
       "      <td>Private</td>\n",
       "      <td>234721</td>\n",
       "      <td>11th</td>\n",
       "      <td>7</td>\n",
       "      <td>Married-civ-spouse</td>\n",
       "      <td>Handlers-cleaners</td>\n",
       "      <td>Husband</td>\n",
       "      <td>Black</td>\n",
       "      <td>Male</td>\n",
       "      <td>0</td>\n",
       "      <td>0</td>\n",
       "      <td>40</td>\n",
       "      <td>United-States</td>\n",
       "      <td>&lt;=50K</td>\n",
       "    </tr>\n",
       "    <tr>\n",
       "      <th>4</th>\n",
       "      <td>28</td>\n",
       "      <td>Private</td>\n",
       "      <td>338409</td>\n",
       "      <td>Bachelors</td>\n",
       "      <td>13</td>\n",
       "      <td>Married-civ-spouse</td>\n",
       "      <td>Prof-specialty</td>\n",
       "      <td>Wife</td>\n",
       "      <td>Black</td>\n",
       "      <td>Female</td>\n",
       "      <td>0</td>\n",
       "      <td>0</td>\n",
       "      <td>40</td>\n",
       "      <td>Cuba</td>\n",
       "      <td>&lt;=50K</td>\n",
       "    </tr>\n",
       "  </tbody>\n",
       "</table>\n",
       "</div>"
      ],
      "text/plain": [
       "   0                  1       2           3   4                    5   \\\n",
       "0  39          State-gov   77516   Bachelors  13        Never-married   \n",
       "1  50   Self-emp-not-inc   83311   Bachelors  13   Married-civ-spouse   \n",
       "2  38            Private  215646     HS-grad   9             Divorced   \n",
       "3  53            Private  234721        11th   7   Married-civ-spouse   \n",
       "4  28            Private  338409   Bachelors  13   Married-civ-spouse   \n",
       "\n",
       "                   6               7       8        9     10  11  12  \\\n",
       "0        Adm-clerical   Not-in-family   White     Male  2174   0  40   \n",
       "1     Exec-managerial         Husband   White     Male     0   0  13   \n",
       "2   Handlers-cleaners   Not-in-family   White     Male     0   0  40   \n",
       "3   Handlers-cleaners         Husband   Black     Male     0   0  40   \n",
       "4      Prof-specialty            Wife   Black   Female     0   0  40   \n",
       "\n",
       "               13      14  \n",
       "0   United-States   <=50K  \n",
       "1   United-States   <=50K  \n",
       "2   United-States   <=50K  \n",
       "3   United-States   <=50K  \n",
       "4            Cuba   <=50K  "
      ]
     },
     "execution_count": 1,
     "metadata": {},
     "output_type": "execute_result"
    }
   ],
   "source": [
    "# Import libraries and dataset\n",
    "import pandas as pd\n",
    "import numpy as np\n",
    "import matplotlib.pyplot as plt\n",
    "import seaborn as sns\n",
    "\n",
    "data = pd.read_csv(\"C:/Users/alexg/Documents/ITOM6267/Data Files/adult.csv\", header = None)\n",
    " \n",
    "data.head()"
   ]
  },
  {
   "cell_type": "code",
   "execution_count": 2,
   "id": "67bdf461",
   "metadata": {},
   "outputs": [
    {
     "data": {
      "text/html": [
       "<div>\n",
       "<style scoped>\n",
       "    .dataframe tbody tr th:only-of-type {\n",
       "        vertical-align: middle;\n",
       "    }\n",
       "\n",
       "    .dataframe tbody tr th {\n",
       "        vertical-align: top;\n",
       "    }\n",
       "\n",
       "    .dataframe thead th {\n",
       "        text-align: right;\n",
       "    }\n",
       "</style>\n",
       "<table border=\"1\" class=\"dataframe\">\n",
       "  <thead>\n",
       "    <tr style=\"text-align: right;\">\n",
       "      <th></th>\n",
       "      <th>Age</th>\n",
       "      <th>WorkClass</th>\n",
       "      <th>Final_Weight</th>\n",
       "      <th>Education</th>\n",
       "      <th>Edu_Num</th>\n",
       "      <th>Marital_Status</th>\n",
       "      <th>Occupation</th>\n",
       "      <th>Relationship</th>\n",
       "      <th>Race</th>\n",
       "      <th>Sex</th>\n",
       "      <th>Capital_Gain</th>\n",
       "      <th>Capital_Loss</th>\n",
       "      <th>Hours_per_Week</th>\n",
       "      <th>Native_Country</th>\n",
       "      <th>Income</th>\n",
       "    </tr>\n",
       "  </thead>\n",
       "  <tbody>\n",
       "    <tr>\n",
       "      <th>0</th>\n",
       "      <td>39</td>\n",
       "      <td>State-gov</td>\n",
       "      <td>77516</td>\n",
       "      <td>Bachelors</td>\n",
       "      <td>13</td>\n",
       "      <td>Never-married</td>\n",
       "      <td>Adm-clerical</td>\n",
       "      <td>Not-in-family</td>\n",
       "      <td>White</td>\n",
       "      <td>Male</td>\n",
       "      <td>2174</td>\n",
       "      <td>0</td>\n",
       "      <td>40</td>\n",
       "      <td>United-States</td>\n",
       "      <td>&lt;=50K</td>\n",
       "    </tr>\n",
       "    <tr>\n",
       "      <th>1</th>\n",
       "      <td>50</td>\n",
       "      <td>Self-emp-not-inc</td>\n",
       "      <td>83311</td>\n",
       "      <td>Bachelors</td>\n",
       "      <td>13</td>\n",
       "      <td>Married-civ-spouse</td>\n",
       "      <td>Exec-managerial</td>\n",
       "      <td>Husband</td>\n",
       "      <td>White</td>\n",
       "      <td>Male</td>\n",
       "      <td>0</td>\n",
       "      <td>0</td>\n",
       "      <td>13</td>\n",
       "      <td>United-States</td>\n",
       "      <td>&lt;=50K</td>\n",
       "    </tr>\n",
       "    <tr>\n",
       "      <th>2</th>\n",
       "      <td>38</td>\n",
       "      <td>Private</td>\n",
       "      <td>215646</td>\n",
       "      <td>HS-grad</td>\n",
       "      <td>9</td>\n",
       "      <td>Divorced</td>\n",
       "      <td>Handlers-cleaners</td>\n",
       "      <td>Not-in-family</td>\n",
       "      <td>White</td>\n",
       "      <td>Male</td>\n",
       "      <td>0</td>\n",
       "      <td>0</td>\n",
       "      <td>40</td>\n",
       "      <td>United-States</td>\n",
       "      <td>&lt;=50K</td>\n",
       "    </tr>\n",
       "    <tr>\n",
       "      <th>3</th>\n",
       "      <td>53</td>\n",
       "      <td>Private</td>\n",
       "      <td>234721</td>\n",
       "      <td>11th</td>\n",
       "      <td>7</td>\n",
       "      <td>Married-civ-spouse</td>\n",
       "      <td>Handlers-cleaners</td>\n",
       "      <td>Husband</td>\n",
       "      <td>Black</td>\n",
       "      <td>Male</td>\n",
       "      <td>0</td>\n",
       "      <td>0</td>\n",
       "      <td>40</td>\n",
       "      <td>United-States</td>\n",
       "      <td>&lt;=50K</td>\n",
       "    </tr>\n",
       "    <tr>\n",
       "      <th>4</th>\n",
       "      <td>28</td>\n",
       "      <td>Private</td>\n",
       "      <td>338409</td>\n",
       "      <td>Bachelors</td>\n",
       "      <td>13</td>\n",
       "      <td>Married-civ-spouse</td>\n",
       "      <td>Prof-specialty</td>\n",
       "      <td>Wife</td>\n",
       "      <td>Black</td>\n",
       "      <td>Female</td>\n",
       "      <td>0</td>\n",
       "      <td>0</td>\n",
       "      <td>40</td>\n",
       "      <td>Cuba</td>\n",
       "      <td>&lt;=50K</td>\n",
       "    </tr>\n",
       "  </tbody>\n",
       "</table>\n",
       "</div>"
      ],
      "text/plain": [
       "   Age          WorkClass  Final_Weight   Education  Edu_Num  \\\n",
       "0   39          State-gov         77516   Bachelors       13   \n",
       "1   50   Self-emp-not-inc         83311   Bachelors       13   \n",
       "2   38            Private        215646     HS-grad        9   \n",
       "3   53            Private        234721        11th        7   \n",
       "4   28            Private        338409   Bachelors       13   \n",
       "\n",
       "        Marital_Status          Occupation    Relationship    Race      Sex  \\\n",
       "0        Never-married        Adm-clerical   Not-in-family   White     Male   \n",
       "1   Married-civ-spouse     Exec-managerial         Husband   White     Male   \n",
       "2             Divorced   Handlers-cleaners   Not-in-family   White     Male   \n",
       "3   Married-civ-spouse   Handlers-cleaners         Husband   Black     Male   \n",
       "4   Married-civ-spouse      Prof-specialty            Wife   Black   Female   \n",
       "\n",
       "   Capital_Gain  Capital_Loss  Hours_per_Week  Native_Country  Income  \n",
       "0          2174             0              40   United-States   <=50K  \n",
       "1             0             0              13   United-States   <=50K  \n",
       "2             0             0              40   United-States   <=50K  \n",
       "3             0             0              40   United-States   <=50K  \n",
       "4             0             0              40            Cuba   <=50K  "
      ]
     },
     "execution_count": 2,
     "metadata": {},
     "output_type": "execute_result"
    }
   ],
   "source": [
    "# Add variable names\n",
    "col_names = [\"Age\", \"WorkClass\", \"Final_Weight\", \"Education\",\n",
    "             \"Edu_Num\", \"Marital_Status\", \"Occupation\", \"Relationship\",\n",
    "             \"Race\", \"Sex\", \"Capital_Gain\", \"Capital_Loss\", \"Hours_per_Week\",\n",
    "             \"Native_Country\", \"Income\"]\n",
    "\n",
    "data.columns = col_names\n",
    "\n",
    "data.head()"
   ]
  },
  {
   "cell_type": "markdown",
   "id": "3f06f8fd",
   "metadata": {},
   "source": [
    "### Q1: How many observations (rows) and how many variables (columns) are there in the raw data?"
   ]
  },
  {
   "cell_type": "code",
   "execution_count": 3,
   "id": "57129e2c",
   "metadata": {},
   "outputs": [],
   "source": [
    "# Adding the whole dataset by replicating each row with its corresponding Final_Weight\n",
    "fw_sum = data['Final_Weight'].sum()"
   ]
  },
  {
   "cell_type": "code",
   "execution_count": 4,
   "id": "2862abb5",
   "metadata": {},
   "outputs": [
    {
     "name": "stdout",
     "output_type": "stream",
     "text": [
      "Actual Number of Rows is: 6179373392 , however we have rescaled it and got: 617937\n",
      "The data file given without final weight replication, has: 32561 rows\n",
      "Number of Columns is: 15\n"
     ]
    }
   ],
   "source": [
    "print(\"Actual Number of Rows is:\", fw_sum, \", however we have rescaled it and got:\", int(fw_sum/10000))\n",
    "print(\"The data file given without final weight replication, has:\", data.shape[0],\"rows\")\n",
    "print(\"Number of Columns is:\", data.shape[1])"
   ]
  },
  {
   "cell_type": "markdown",
   "id": "05635bf2",
   "metadata": {},
   "source": [
    "###  Q2: Produce a table of variables showing their types. "
   ]
  },
  {
   "cell_type": "code",
   "execution_count": 5,
   "id": "dbbeeea4",
   "metadata": {},
   "outputs": [
    {
     "name": "stdout",
     "output_type": "stream",
     "text": [
      "<class 'pandas.core.frame.DataFrame'>\n",
      "RangeIndex: 32561 entries, 0 to 32560\n",
      "Data columns (total 15 columns):\n",
      " #   Column          Non-Null Count  Dtype \n",
      "---  ------          --------------  ----- \n",
      " 0   Age             32561 non-null  int64 \n",
      " 1   WorkClass       32561 non-null  object\n",
      " 2   Final_Weight    32561 non-null  int64 \n",
      " 3   Education       32561 non-null  object\n",
      " 4   Edu_Num         32561 non-null  int64 \n",
      " 5   Marital_Status  32561 non-null  object\n",
      " 6   Occupation      32561 non-null  object\n",
      " 7   Relationship    32561 non-null  object\n",
      " 8   Race            32561 non-null  object\n",
      " 9   Sex             32561 non-null  object\n",
      " 10  Capital_Gain    32561 non-null  int64 \n",
      " 11  Capital_Loss    32561 non-null  int64 \n",
      " 12  Hours_per_Week  32561 non-null  int64 \n",
      " 13  Native_Country  32561 non-null  object\n",
      " 14  Income          32561 non-null  object\n",
      "dtypes: int64(6), object(9)\n",
      "memory usage: 3.7+ MB\n"
     ]
    }
   ],
   "source": [
    "# Table of variables showing the variables and observations before rescaling\n",
    "data.info()"
   ]
  },
  {
   "cell_type": "code",
   "execution_count": 6,
   "id": "dae406df",
   "metadata": {},
   "outputs": [
    {
     "name": "stdout",
     "output_type": "stream",
     "text": [
      "<class 'pandas.core.frame.DataFrame'>\n",
      "Int64Index: 601554 entries, 0 to 32560\n",
      "Data columns (total 15 columns):\n",
      " #   Column          Non-Null Count   Dtype  \n",
      "---  ------          --------------   -----  \n",
      " 0   Age             601554 non-null  int64  \n",
      " 1   WorkClass       601554 non-null  object \n",
      " 2   Final_Weight    601554 non-null  float64\n",
      " 3   Education       601554 non-null  object \n",
      " 4   Edu_Num         601554 non-null  int64  \n",
      " 5   Marital_Status  601554 non-null  object \n",
      " 6   Occupation      601554 non-null  object \n",
      " 7   Relationship    601554 non-null  object \n",
      " 8   Race            601554 non-null  object \n",
      " 9   Sex             601554 non-null  object \n",
      " 10  Capital_Gain    601554 non-null  int64  \n",
      " 11  Capital_Loss    601554 non-null  int64  \n",
      " 12  Hours_per_Week  601554 non-null  int64  \n",
      " 13  Native_Country  601554 non-null  object \n",
      " 14  Income          601554 non-null  object \n",
      "dtypes: float64(1), int64(5), object(9)\n",
      "memory usage: 73.4+ MB\n"
     ]
    }
   ],
   "source": [
    "# Table after rescaling Final_Weight by 10000 and replicating each row Final_Weight times:\n",
    "data['Final_Weight'] = data['Final_Weight']/10000\n",
    "\n",
    "# Replication of each row Final_Weight (rescaled 10k) times\n",
    "data = data.reindex(data.index.repeat(data['Final_Weight']))\n",
    "data.info()"
   ]
  },
  {
   "cell_type": "markdown",
   "id": "e2154a46",
   "metadata": {},
   "source": [
    "### Q3: Which numeric variables should be treated as categorical?"
   ]
  },
  {
   "cell_type": "code",
   "execution_count": 7,
   "id": "56084046",
   "metadata": {},
   "outputs": [
    {
     "data": {
      "text/plain": [
       "Age                  73\n",
       "WorkClass             9\n",
       "Final_Weight      21648\n",
       "Education            16\n",
       "Edu_Num              16\n",
       "Marital_Status        7\n",
       "Occupation           15\n",
       "Relationship          6\n",
       "Race                  5\n",
       "Sex                   2\n",
       "Capital_Gain        119\n",
       "Capital_Loss         92\n",
       "Hours_per_Week       94\n",
       "Native_Country       42\n",
       "Income                2\n",
       "dtype: int64"
      ]
     },
     "execution_count": 7,
     "metadata": {},
     "output_type": "execute_result"
    }
   ],
   "source": [
    "# Checking the unique values of every variable:\n",
    "data.nunique(axis = 0)\n",
    "    # Answer: Other column to treat as categorical is Edu_Num"
   ]
  },
  {
   "cell_type": "code",
   "execution_count": 8,
   "id": "13166823",
   "metadata": {},
   "outputs": [
    {
     "name": "stdout",
     "output_type": "stream",
     "text": [
      "WorkClass  :   Private             426048\n",
      " Self-emp-not-inc     43355\n",
      " Local-gov            38426\n",
      " ?                    33695\n",
      " State-gov            23256\n",
      " Self-emp-inc         19085\n",
      " Federal-gov          17297\n",
      " Without-pay            238\n",
      " Never-worked           154\n",
      "Name: WorkClass, dtype: int64\n",
      "\n",
      "\n",
      "Education  :   HS-grad         193717\n",
      " Some-college    133929\n",
      " Bachelors        98016\n",
      " Masters          30134\n",
      " Assoc-voc        24441\n",
      " 11th             22313\n",
      " Assoc-acdm       20112\n",
      " 10th             17915\n",
      " 7th-8th          11831\n",
      " Prof-school      10403\n",
      " 9th              10146\n",
      " 12th              8404\n",
      " 5th-6th           7573\n",
      " Doctorate         7503\n",
      " 1st-4th           3939\n",
      " Preschool         1178\n",
      "Name: Education, dtype: int64\n",
      "\n",
      "\n",
      "Edu_Num  :  9     193717\n",
      "10    133929\n",
      "13     98016\n",
      "14     30134\n",
      "11     24441\n",
      "7      22313\n",
      "12     20112\n",
      "6      17915\n",
      "4      11831\n",
      "15     10403\n",
      "5      10146\n",
      "8       8404\n",
      "3       7573\n",
      "16      7503\n",
      "2       3939\n",
      "1       1178\n",
      "Name: Edu_Num, dtype: int64\n",
      "\n",
      "\n",
      "Marital_Status  :   Married-civ-spouse       272124\n",
      " Never-married            203392\n",
      " Divorced                  80312\n",
      " Separated                 20652\n",
      " Widowed                   16793\n",
      " Married-spouse-absent      7863\n",
      " Married-AF-spouse           418\n",
      "Name: Marital_Status, dtype: int64\n",
      "\n",
      "\n",
      "Occupation  :   Craft-repair         76689\n",
      " Prof-specialty       74633\n",
      " Exec-managerial      72954\n",
      " Adm-clerical         70507\n",
      " Sales                67836\n",
      " Other-service        60498\n",
      " Machine-op-inspct    38035\n",
      " ?                    33849\n",
      " Transport-moving     29586\n",
      " Handlers-cleaners    27310\n",
      " Tech-support         17350\n",
      " Farming-fishing      16421\n",
      " Protective-serv      12776\n",
      " Priv-house-serv       2920\n",
      " Armed-Forces           190\n",
      "Name: Occupation, dtype: int64\n",
      "\n",
      "\n",
      "Relationship  :   Husband           240154\n",
      " Not-in-family     154585\n",
      " Own-child          95385\n",
      " Unmarried          64103\n",
      " Wife               27701\n",
      " Other-relative     19626\n",
      "Name: Relationship, dtype: int64\n",
      "\n",
      "\n",
      "Race  :   White                 506980\n",
      " Black                  69649\n",
      " Asian-Pac-Islander     16121\n",
      " Other                   5202\n",
      " Amer-Indian-Eskimo      3602\n",
      "Name: Race, dtype: int64\n",
      "\n",
      "\n",
      "Sex  :   Male      406921\n",
      " Female    194633\n",
      "Name: Sex, dtype: int64\n",
      "\n",
      "\n",
      "Native_Country  :   United-States                 531003\n",
      " Mexico                         18290\n",
      " ?                              10966\n",
      " Philippines                     3197\n",
      " El-Salvador                     2644\n",
      " Germany                         2528\n",
      " Cuba                            2293\n",
      " Puerto-Rico                     2246\n",
      " Canada                          2112\n",
      " Jamaica                         1678\n",
      " Guatemala                       1664\n",
      " India                           1636\n",
      " England                         1595\n",
      " Dominican-Republic              1311\n",
      " China                           1311\n",
      " Columbia                        1300\n",
      " Italy                           1292\n",
      " South                           1272\n",
      " Japan                           1121\n",
      " Poland                          1076\n",
      " Vietnam                         1061\n",
      " Nicaragua                        984\n",
      " Taiwan                           926\n",
      " Haiti                            897\n",
      " Peru                             836\n",
      " Iran                             763\n",
      " France                           542\n",
      " Portugal                         531\n",
      " Ecuador                          505\n",
      " Hong                             433\n",
      " Greece                           402\n",
      " Trinadad&Tobago                  395\n",
      " Laos                             370\n",
      " Cambodia                         359\n",
      " Yugoslavia                       339\n",
      " Honduras                         326\n",
      " Thailand                         323\n",
      " Ireland                          320\n",
      " Outlying-US(Guam-USVI-etc)       279\n",
      " Hungary                          228\n",
      " Scotland                         198\n",
      " Holand-Netherlands                 2\n",
      "Name: Native_Country, dtype: int64\n",
      "\n",
      "\n",
      "Income  :   <=50K    458086\n",
      " >50K     143468\n",
      "Name: Income, dtype: int64\n",
      "\n",
      "\n"
     ]
    }
   ],
   "source": [
    "# Checking if we have anything unusual in the categorical variables\n",
    "for cols in ['WorkClass','Education', 'Edu_Num','Marital_Status','Occupation',\n",
    "             'Relationship','Race','Sex','Native_Country','Income']:\n",
    "    print(cols ,\" : \",data[cols].value_counts())\n",
    "    print('\\n')\n",
    "\n",
    "# WorkClass : 1836 values for '?'  it could be some private work\n",
    "# Occupation : 1843 values for '?'  can give them 'Random Job' name\n",
    "# Native Country : 583 values for '?'  could be random country"
   ]
  },
  {
   "cell_type": "markdown",
   "id": "2ca7d7b5",
   "metadata": {},
   "source": [
    "### Q4: For numeric variables, produce a table of statistics including missing values, min, max, median, mean, standard deviation, skewness and kurtosis."
   ]
  },
  {
   "cell_type": "code",
   "execution_count": 9,
   "id": "7c629b15",
   "metadata": {},
   "outputs": [
    {
     "data": {
      "text/html": [
       "<div>\n",
       "<style scoped>\n",
       "    .dataframe tbody tr th:only-of-type {\n",
       "        vertical-align: middle;\n",
       "    }\n",
       "\n",
       "    .dataframe tbody tr th {\n",
       "        vertical-align: top;\n",
       "    }\n",
       "\n",
       "    .dataframe thead th {\n",
       "        text-align: right;\n",
       "    }\n",
       "</style>\n",
       "<table border=\"1\" class=\"dataframe\">\n",
       "  <thead>\n",
       "    <tr style=\"text-align: right;\">\n",
       "      <th></th>\n",
       "      <th>Age</th>\n",
       "      <th>Capital_Gain</th>\n",
       "      <th>Capital_Loss</th>\n",
       "      <th>Hours_per_Week</th>\n",
       "    </tr>\n",
       "  </thead>\n",
       "  <tbody>\n",
       "    <tr>\n",
       "      <th>min</th>\n",
       "      <td>17.000000</td>\n",
       "      <td>0.000000</td>\n",
       "      <td>0.000000</td>\n",
       "      <td>1.000000</td>\n",
       "    </tr>\n",
       "    <tr>\n",
       "      <th>max</th>\n",
       "      <td>90.000000</td>\n",
       "      <td>99999.000000</td>\n",
       "      <td>4356.000000</td>\n",
       "      <td>99.000000</td>\n",
       "    </tr>\n",
       "    <tr>\n",
       "      <th>mean</th>\n",
       "      <td>37.984527</td>\n",
       "      <td>1079.541183</td>\n",
       "      <td>84.945583</td>\n",
       "      <td>40.305065</td>\n",
       "    </tr>\n",
       "    <tr>\n",
       "      <th>median</th>\n",
       "      <td>36.000000</td>\n",
       "      <td>0.000000</td>\n",
       "      <td>0.000000</td>\n",
       "      <td>40.000000</td>\n",
       "    </tr>\n",
       "    <tr>\n",
       "      <th>std</th>\n",
       "      <td>13.464064</td>\n",
       "      <td>7436.344622</td>\n",
       "      <td>396.624057</td>\n",
       "      <td>12.087739</td>\n",
       "    </tr>\n",
       "    <tr>\n",
       "      <th>skew</th>\n",
       "      <td>0.595833</td>\n",
       "      <td>11.909010</td>\n",
       "      <td>4.644934</td>\n",
       "      <td>0.203340</td>\n",
       "    </tr>\n",
       "    <tr>\n",
       "      <th>kurtosis</th>\n",
       "      <td>-0.119916</td>\n",
       "      <td>153.196906</td>\n",
       "      <td>20.801014</td>\n",
       "      <td>2.985449</td>\n",
       "    </tr>\n",
       "  </tbody>\n",
       "</table>\n",
       "</div>"
      ],
      "text/plain": [
       "                Age  Capital_Gain  Capital_Loss  Hours_per_Week\n",
       "min       17.000000      0.000000      0.000000        1.000000\n",
       "max       90.000000  99999.000000   4356.000000       99.000000\n",
       "mean      37.984527   1079.541183     84.945583       40.305065\n",
       "median    36.000000      0.000000      0.000000       40.000000\n",
       "std       13.464064   7436.344622    396.624057       12.087739\n",
       "skew       0.595833     11.909010      4.644934        0.203340\n",
       "kurtosis  -0.119916    153.196906     20.801014        2.985449"
      ]
     },
     "execution_count": 9,
     "metadata": {},
     "output_type": "execute_result"
    }
   ],
   "source": [
    "# List of numeric variables\n",
    "\n",
    "num_vars = ['Age', 'Capital_Gain','Capital_Loss','Hours_per_Week']\n",
    "\n",
    "# Stats \n",
    "stats = ['min', 'max', 'mean', 'median', 'std', 'skew', 'kurtosis']\n",
    "\n",
    "data[num_vars].agg(stats)\n",
    "\n",
    "# Analysis : Capital_Gain & Capital_Loss have kurtosis values > 3 which is a red flag, need to check Outlier"
   ]
  },
  {
   "cell_type": "markdown",
   "id": "6eba085d",
   "metadata": {},
   "source": [
    "### Q5: Count the unique values of each categorical variable, including missing values. Are there any unusual values in any of the categorical variables? "
   ]
  },
  {
   "cell_type": "code",
   "execution_count": 10,
   "id": "41fb67b8",
   "metadata": {},
   "outputs": [
    {
     "name": "stderr",
     "output_type": "stream",
     "text": [
      "C:\\Users\\alexg\\AppData\\Local\\Temp\\ipykernel_12864\\3296289783.py:2: FutureWarning: The default value of regex will change from True to False in a future version. In addition, single character regular expressions will *not* be treated as literal strings when regex=True.\n",
      "  data.WorkClass = data.WorkClass.str.replace('?','Unknown')\n",
      "C:\\Users\\alexg\\AppData\\Local\\Temp\\ipykernel_12864\\3296289783.py:3: FutureWarning: The default value of regex will change from True to False in a future version. In addition, single character regular expressions will *not* be treated as literal strings when regex=True.\n",
      "  data.Occupation = data.Occupation.str.replace('?','Unknown')\n"
     ]
    },
    {
     "name": "stdout",
     "output_type": "stream",
     "text": [
      " Private             426048\n",
      " Self-emp-not-inc     43355\n",
      " Local-gov            38426\n",
      " Unknown              33695\n",
      " State-gov            23256\n",
      " Self-emp-inc         19085\n",
      " Federal-gov          17297\n",
      " Without-pay            238\n",
      " Never-worked           154\n",
      "Name: WorkClass, dtype: int64\n",
      " Craft-repair         76689\n",
      " Prof-specialty       74633\n",
      " Exec-managerial      72954\n",
      " Adm-clerical         70507\n",
      " Sales                67836\n",
      " Other-service        60498\n",
      " Machine-op-inspct    38035\n",
      " Unknown              33849\n",
      " Transport-moving     29586\n",
      " Handlers-cleaners    27310\n",
      " Tech-support         17350\n",
      " Farming-fishing      16421\n",
      " Protective-serv      12776\n",
      " Priv-house-serv       2920\n",
      " Armed-Forces           190\n",
      "Name: Occupation, dtype: int64\n",
      " United-States                 531003\n",
      " Mexico                         18290\n",
      " Unknown                        10966\n",
      " Philippines                     3197\n",
      " El-Salvador                     2644\n",
      " Germany                         2528\n",
      " Cuba                            2293\n",
      " Puerto-Rico                     2246\n",
      " Canada                          2112\n",
      " Jamaica                         1678\n",
      " Guatemala                       1664\n",
      " India                           1636\n",
      " England                         1595\n",
      " Dominican-Republic              1311\n",
      " China                           1311\n",
      " Columbia                        1300\n",
      " Italy                           1292\n",
      " South                           1272\n",
      " Japan                           1121\n",
      " Poland                          1076\n",
      " Vietnam                         1061\n",
      " Nicaragua                        984\n",
      " Taiwan                           926\n",
      " Haiti                            897\n",
      " Peru                             836\n",
      " Iran                             763\n",
      " France                           542\n",
      " Portugal                         531\n",
      " Ecuador                          505\n",
      " Hong                             433\n",
      " Greece                           402\n",
      " Trinadad&Tobago                  395\n",
      " Laos                             370\n",
      " Cambodia                         359\n",
      " Yugoslavia                       339\n",
      " Honduras                         326\n",
      " Thailand                         323\n",
      " Ireland                          320\n",
      " Outlying-US(Guam-USVI-etc)       279\n",
      " Hungary                          228\n",
      " Scotland                         198\n",
      " Holand-Netherlands                 2\n",
      "Name: Native_Country, dtype: int64\n"
     ]
    },
    {
     "name": "stderr",
     "output_type": "stream",
     "text": [
      "C:\\Users\\alexg\\AppData\\Local\\Temp\\ipykernel_12864\\3296289783.py:4: FutureWarning: The default value of regex will change from True to False in a future version. In addition, single character regular expressions will *not* be treated as literal strings when regex=True.\n",
      "  data.Native_Country = data.Native_Country.str.replace('?','Unknown')\n"
     ]
    }
   ],
   "source": [
    "# Data Cleaning (Changing '?' values in 3 variables to 'Unknown'):\n",
    "data.WorkClass = data.WorkClass.str.replace('?','Unknown')\n",
    "data.Occupation = data.Occupation.str.replace('?','Unknown')\n",
    "data.Native_Country = data.Native_Country.str.replace('?','Unknown')\n",
    "\n",
    "# Show alterations:\n",
    "print(data.WorkClass.value_counts())\n",
    "print(data.Occupation.value_counts())\n",
    "print(data.Native_Country.value_counts())"
   ]
  },
  {
   "cell_type": "markdown",
   "id": "e6dea3f8",
   "metadata": {},
   "source": [
    "### Q6: How many outliers are present in each numeric variable? Show the tallies in a table. Set them to missing."
   ]
  },
  {
   "cell_type": "code",
   "execution_count": 11,
   "id": "b9df5e53",
   "metadata": {
    "scrolled": true
   },
   "outputs": [
    {
     "data": {
      "text/plain": [
       "Age               0\n",
       "WorkClass         0\n",
       "Final_Weight      0\n",
       "Education         0\n",
       "Edu_Num           0\n",
       "Marital_Status    0\n",
       "Occupation        0\n",
       "Relationship      0\n",
       "Race              0\n",
       "Sex               0\n",
       "Capital_Gain      0\n",
       "Capital_Loss      0\n",
       "Hours_per_Week    0\n",
       "Native_Country    0\n",
       "Income            0\n",
       "dtype: int64"
      ]
     },
     "execution_count": 11,
     "metadata": {},
     "output_type": "execute_result"
    }
   ],
   "source": [
    "# Initial analysis: since we checked through kurtosis and saw that Capital_Gain and Capital_Loss have values to that could be outliers\n",
    "    # Checking if there can be more variables with outliers and set them missing\n",
    "    \n",
    "# Check if data already has any missing values\n",
    "data.isna().sum()"
   ]
  },
  {
   "cell_type": "code",
   "execution_count": 12,
   "id": "c106243a",
   "metadata": {},
   "outputs": [
    {
     "name": "stderr",
     "output_type": "stream",
     "text": [
      "C:\\Users\\alexg\\anaconda3\\lib\\site-packages\\seaborn\\distributions.py:2619: FutureWarning: `distplot` is a deprecated function and will be removed in a future version. Please adapt your code to use either `displot` (a figure-level function with similar flexibility) or `histplot` (an axes-level function for histograms).\n",
      "  warnings.warn(msg, FutureWarning)\n"
     ]
    },
    {
     "data": {
      "text/plain": [
       "<AxesSubplot:xlabel='Capital_Gain'>"
      ]
     },
     "execution_count": 12,
     "metadata": {},
     "output_type": "execute_result"
    },
    {
     "data": {
      "image/png": "[encoded data removed]",
      "text/plain": [
       "<Figure size 432x288 with 1 Axes>"
      ]
     },
     "metadata": {
      "needs_background": "light"
     },
     "output_type": "display_data"
    }
   ],
   "source": [
    "# To shape the data and better use capital gain and loss, we group it together as a new variable\n",
    "    # Reference Idea 1: https://towardsdatascience.com/a-beginners-guide-to-data-analysis-machine-learning-with-python-adult-salary-dataset-e5fc028b6f0a\n",
    "    # Reference Idea 2: https://rpubs.com/vassitar/us_census_preprocessing and few others \n",
    "# Doing this because there are too many zeros in the variables “capital_gain” and “capital_loss” which can disrupt the analysis.\n",
    "\n",
    "# View both and verify the same\n",
    "from scipy.stats import norm \n",
    "sns.distplot(data['Capital_Gain'], kde = False, fit = norm)"
   ]
  },
  {
   "cell_type": "code",
   "execution_count": 13,
   "id": "e6b8c768",
   "metadata": {},
   "outputs": [
    {
     "name": "stderr",
     "output_type": "stream",
     "text": [
      "C:\\Users\\alexg\\anaconda3\\lib\\site-packages\\seaborn\\distributions.py:2619: FutureWarning: `distplot` is a deprecated function and will be removed in a future version. Please adapt your code to use either `displot` (a figure-level function with similar flexibility) or `histplot` (an axes-level function for histograms).\n",
      "  warnings.warn(msg, FutureWarning)\n"
     ]
    },
    {
     "data": {
      "text/plain": [
       "<AxesSubplot:xlabel='Capital_Loss'>"
      ]
     },
     "execution_count": 13,
     "metadata": {},
     "output_type": "execute_result"
    },
    {
     "data": {
      "image/png": "[encoded data removed]",
      "text/plain": [
       "<Figure size 432x288 with 1 Axes>"
      ]
     },
     "metadata": {
      "needs_background": "light"
     },
     "output_type": "display_data"
    }
   ],
   "source": [
    "from scipy.stats import norm\n",
    "sns.distplot(data['Capital_Loss'], kde = False, fit = norm)"
   ]
  },
  {
   "cell_type": "code",
   "execution_count": 14,
   "id": "c0bd0f30",
   "metadata": {},
   "outputs": [
    {
     "data": {
      "text/html": [
       "<div>\n",
       "<style scoped>\n",
       "    .dataframe tbody tr th:only-of-type {\n",
       "        vertical-align: middle;\n",
       "    }\n",
       "\n",
       "    .dataframe tbody tr th {\n",
       "        vertical-align: top;\n",
       "    }\n",
       "\n",
       "    .dataframe thead th {\n",
       "        text-align: right;\n",
       "    }\n",
       "</style>\n",
       "<table border=\"1\" class=\"dataframe\">\n",
       "  <thead>\n",
       "    <tr style=\"text-align: right;\">\n",
       "      <th></th>\n",
       "      <th>Age</th>\n",
       "      <th>WorkClass</th>\n",
       "      <th>Final_Weight</th>\n",
       "      <th>Education</th>\n",
       "      <th>Edu_Num</th>\n",
       "      <th>Marital_Status</th>\n",
       "      <th>Occupation</th>\n",
       "      <th>Relationship</th>\n",
       "      <th>Race</th>\n",
       "      <th>Sex</th>\n",
       "      <th>Capital_Gain</th>\n",
       "      <th>Capital_Loss</th>\n",
       "      <th>Hours_per_Week</th>\n",
       "      <th>Native_Country</th>\n",
       "      <th>Income</th>\n",
       "      <th>NetCapital</th>\n",
       "    </tr>\n",
       "  </thead>\n",
       "  <tbody>\n",
       "    <tr>\n",
       "      <th>0</th>\n",
       "      <td>39</td>\n",
       "      <td>State-gov</td>\n",
       "      <td>7.7516</td>\n",
       "      <td>Bachelors</td>\n",
       "      <td>13</td>\n",
       "      <td>Never-married</td>\n",
       "      <td>Adm-clerical</td>\n",
       "      <td>Not-in-family</td>\n",
       "      <td>White</td>\n",
       "      <td>Male</td>\n",
       "      <td>2174</td>\n",
       "      <td>0</td>\n",
       "      <td>40</td>\n",
       "      <td>United-States</td>\n",
       "      <td>&lt;=50K</td>\n",
       "      <td>2174</td>\n",
       "    </tr>\n",
       "    <tr>\n",
       "      <th>0</th>\n",
       "      <td>39</td>\n",
       "      <td>State-gov</td>\n",
       "      <td>7.7516</td>\n",
       "      <td>Bachelors</td>\n",
       "      <td>13</td>\n",
       "      <td>Never-married</td>\n",
       "      <td>Adm-clerical</td>\n",
       "      <td>Not-in-family</td>\n",
       "      <td>White</td>\n",
       "      <td>Male</td>\n",
       "      <td>2174</td>\n",
       "      <td>0</td>\n",
       "      <td>40</td>\n",
       "      <td>United-States</td>\n",
       "      <td>&lt;=50K</td>\n",
       "      <td>2174</td>\n",
       "    </tr>\n",
       "    <tr>\n",
       "      <th>0</th>\n",
       "      <td>39</td>\n",
       "      <td>State-gov</td>\n",
       "      <td>7.7516</td>\n",
       "      <td>Bachelors</td>\n",
       "      <td>13</td>\n",
       "      <td>Never-married</td>\n",
       "      <td>Adm-clerical</td>\n",
       "      <td>Not-in-family</td>\n",
       "      <td>White</td>\n",
       "      <td>Male</td>\n",
       "      <td>2174</td>\n",
       "      <td>0</td>\n",
       "      <td>40</td>\n",
       "      <td>United-States</td>\n",
       "      <td>&lt;=50K</td>\n",
       "      <td>2174</td>\n",
       "    </tr>\n",
       "    <tr>\n",
       "      <th>0</th>\n",
       "      <td>39</td>\n",
       "      <td>State-gov</td>\n",
       "      <td>7.7516</td>\n",
       "      <td>Bachelors</td>\n",
       "      <td>13</td>\n",
       "      <td>Never-married</td>\n",
       "      <td>Adm-clerical</td>\n",
       "      <td>Not-in-family</td>\n",
       "      <td>White</td>\n",
       "      <td>Male</td>\n",
       "      <td>2174</td>\n",
       "      <td>0</td>\n",
       "      <td>40</td>\n",
       "      <td>United-States</td>\n",
       "      <td>&lt;=50K</td>\n",
       "      <td>2174</td>\n",
       "    </tr>\n",
       "    <tr>\n",
       "      <th>0</th>\n",
       "      <td>39</td>\n",
       "      <td>State-gov</td>\n",
       "      <td>7.7516</td>\n",
       "      <td>Bachelors</td>\n",
       "      <td>13</td>\n",
       "      <td>Never-married</td>\n",
       "      <td>Adm-clerical</td>\n",
       "      <td>Not-in-family</td>\n",
       "      <td>White</td>\n",
       "      <td>Male</td>\n",
       "      <td>2174</td>\n",
       "      <td>0</td>\n",
       "      <td>40</td>\n",
       "      <td>United-States</td>\n",
       "      <td>&lt;=50K</td>\n",
       "      <td>2174</td>\n",
       "    </tr>\n",
       "    <tr>\n",
       "      <th>0</th>\n",
       "      <td>39</td>\n",
       "      <td>State-gov</td>\n",
       "      <td>7.7516</td>\n",
       "      <td>Bachelors</td>\n",
       "      <td>13</td>\n",
       "      <td>Never-married</td>\n",
       "      <td>Adm-clerical</td>\n",
       "      <td>Not-in-family</td>\n",
       "      <td>White</td>\n",
       "      <td>Male</td>\n",
       "      <td>2174</td>\n",
       "      <td>0</td>\n",
       "      <td>40</td>\n",
       "      <td>United-States</td>\n",
       "      <td>&lt;=50K</td>\n",
       "      <td>2174</td>\n",
       "    </tr>\n",
       "    <tr>\n",
       "      <th>0</th>\n",
       "      <td>39</td>\n",
       "      <td>State-gov</td>\n",
       "      <td>7.7516</td>\n",
       "      <td>Bachelors</td>\n",
       "      <td>13</td>\n",
       "      <td>Never-married</td>\n",
       "      <td>Adm-clerical</td>\n",
       "      <td>Not-in-family</td>\n",
       "      <td>White</td>\n",
       "      <td>Male</td>\n",
       "      <td>2174</td>\n",
       "      <td>0</td>\n",
       "      <td>40</td>\n",
       "      <td>United-States</td>\n",
       "      <td>&lt;=50K</td>\n",
       "      <td>2174</td>\n",
       "    </tr>\n",
       "    <tr>\n",
       "      <th>1</th>\n",
       "      <td>50</td>\n",
       "      <td>Self-emp-not-inc</td>\n",
       "      <td>8.3311</td>\n",
       "      <td>Bachelors</td>\n",
       "      <td>13</td>\n",
       "      <td>Married-civ-spouse</td>\n",
       "      <td>Exec-managerial</td>\n",
       "      <td>Husband</td>\n",
       "      <td>White</td>\n",
       "      <td>Male</td>\n",
       "      <td>0</td>\n",
       "      <td>0</td>\n",
       "      <td>13</td>\n",
       "      <td>United-States</td>\n",
       "      <td>&lt;=50K</td>\n",
       "      <td>0</td>\n",
       "    </tr>\n",
       "    <tr>\n",
       "      <th>1</th>\n",
       "      <td>50</td>\n",
       "      <td>Self-emp-not-inc</td>\n",
       "      <td>8.3311</td>\n",
       "      <td>Bachelors</td>\n",
       "      <td>13</td>\n",
       "      <td>Married-civ-spouse</td>\n",
       "      <td>Exec-managerial</td>\n",
       "      <td>Husband</td>\n",
       "      <td>White</td>\n",
       "      <td>Male</td>\n",
       "      <td>0</td>\n",
       "      <td>0</td>\n",
       "      <td>13</td>\n",
       "      <td>United-States</td>\n",
       "      <td>&lt;=50K</td>\n",
       "      <td>0</td>\n",
       "    </tr>\n",
       "    <tr>\n",
       "      <th>1</th>\n",
       "      <td>50</td>\n",
       "      <td>Self-emp-not-inc</td>\n",
       "      <td>8.3311</td>\n",
       "      <td>Bachelors</td>\n",
       "      <td>13</td>\n",
       "      <td>Married-civ-spouse</td>\n",
       "      <td>Exec-managerial</td>\n",
       "      <td>Husband</td>\n",
       "      <td>White</td>\n",
       "      <td>Male</td>\n",
       "      <td>0</td>\n",
       "      <td>0</td>\n",
       "      <td>13</td>\n",
       "      <td>United-States</td>\n",
       "      <td>&lt;=50K</td>\n",
       "      <td>0</td>\n",
       "    </tr>\n",
       "  </tbody>\n",
       "</table>\n",
       "</div>"
      ],
      "text/plain": [
       "   Age          WorkClass  Final_Weight   Education  Edu_Num  \\\n",
       "0   39          State-gov        7.7516   Bachelors       13   \n",
       "0   39          State-gov        7.7516   Bachelors       13   \n",
       "0   39          State-gov        7.7516   Bachelors       13   \n",
       "0   39          State-gov        7.7516   Bachelors       13   \n",
       "0   39          State-gov        7.7516   Bachelors       13   \n",
       "0   39          State-gov        7.7516   Bachelors       13   \n",
       "0   39          State-gov        7.7516   Bachelors       13   \n",
       "1   50   Self-emp-not-inc        8.3311   Bachelors       13   \n",
       "1   50   Self-emp-not-inc        8.3311   Bachelors       13   \n",
       "1   50   Self-emp-not-inc        8.3311   Bachelors       13   \n",
       "\n",
       "        Marital_Status        Occupation    Relationship    Race    Sex  \\\n",
       "0        Never-married      Adm-clerical   Not-in-family   White   Male   \n",
       "0        Never-married      Adm-clerical   Not-in-family   White   Male   \n",
       "0        Never-married      Adm-clerical   Not-in-family   White   Male   \n",
       "0        Never-married      Adm-clerical   Not-in-family   White   Male   \n",
       "0        Never-married      Adm-clerical   Not-in-family   White   Male   \n",
       "0        Never-married      Adm-clerical   Not-in-family   White   Male   \n",
       "0        Never-married      Adm-clerical   Not-in-family   White   Male   \n",
       "1   Married-civ-spouse   Exec-managerial         Husband   White   Male   \n",
       "1   Married-civ-spouse   Exec-managerial         Husband   White   Male   \n",
       "1   Married-civ-spouse   Exec-managerial         Husband   White   Male   \n",
       "\n",
       "   Capital_Gain  Capital_Loss  Hours_per_Week  Native_Country  Income  \\\n",
       "0          2174             0              40   United-States   <=50K   \n",
       "0          2174             0              40   United-States   <=50K   \n",
       "0          2174             0              40   United-States   <=50K   \n",
       "0          2174             0              40   United-States   <=50K   \n",
       "0          2174             0              40   United-States   <=50K   \n",
       "0          2174             0              40   United-States   <=50K   \n",
       "0          2174             0              40   United-States   <=50K   \n",
       "1             0             0              13   United-States   <=50K   \n",
       "1             0             0              13   United-States   <=50K   \n",
       "1             0             0              13   United-States   <=50K   \n",
       "\n",
       "   NetCapital  \n",
       "0        2174  \n",
       "0        2174  \n",
       "0        2174  \n",
       "0        2174  \n",
       "0        2174  \n",
       "0        2174  \n",
       "0        2174  \n",
       "1           0  \n",
       "1           0  \n",
       "1           0  "
      ]
     },
     "execution_count": 14,
     "metadata": {},
     "output_type": "execute_result"
    }
   ],
   "source": [
    "# Group into net_capital = capital_gain - captial loss\n",
    "data['NetCapital'] = data['Capital_Gain'] - data['Capital_Loss']\n",
    "data.head(10)\n",
    "\n",
    "# From the table we see, there are 2 possibilities:\n",
    "    # net_capital = 0 values, or non zero values"
   ]
  },
  {
   "cell_type": "code",
   "execution_count": 15,
   "id": "1471b94a",
   "metadata": {},
   "outputs": [
    {
     "data": {
      "text/html": [
       "<div>\n",
       "<style scoped>\n",
       "    .dataframe tbody tr th:only-of-type {\n",
       "        vertical-align: middle;\n",
       "    }\n",
       "\n",
       "    .dataframe tbody tr th {\n",
       "        vertical-align: top;\n",
       "    }\n",
       "\n",
       "    .dataframe thead th {\n",
       "        text-align: right;\n",
       "    }\n",
       "</style>\n",
       "<table border=\"1\" class=\"dataframe\">\n",
       "  <thead>\n",
       "    <tr style=\"text-align: right;\">\n",
       "      <th></th>\n",
       "      <th>Age</th>\n",
       "      <th>Capital_Gain</th>\n",
       "      <th>Capital_Loss</th>\n",
       "      <th>Hours_per_Week</th>\n",
       "      <th>NetCapital</th>\n",
       "    </tr>\n",
       "  </thead>\n",
       "  <tbody>\n",
       "    <tr>\n",
       "      <th>0</th>\n",
       "      <td>39</td>\n",
       "      <td>2174</td>\n",
       "      <td>0</td>\n",
       "      <td>40</td>\n",
       "      <td>2174</td>\n",
       "    </tr>\n",
       "    <tr>\n",
       "      <th>0</th>\n",
       "      <td>39</td>\n",
       "      <td>2174</td>\n",
       "      <td>0</td>\n",
       "      <td>40</td>\n",
       "      <td>2174</td>\n",
       "    </tr>\n",
       "    <tr>\n",
       "      <th>0</th>\n",
       "      <td>39</td>\n",
       "      <td>2174</td>\n",
       "      <td>0</td>\n",
       "      <td>40</td>\n",
       "      <td>2174</td>\n",
       "    </tr>\n",
       "    <tr>\n",
       "      <th>0</th>\n",
       "      <td>39</td>\n",
       "      <td>2174</td>\n",
       "      <td>0</td>\n",
       "      <td>40</td>\n",
       "      <td>2174</td>\n",
       "    </tr>\n",
       "    <tr>\n",
       "      <th>0</th>\n",
       "      <td>39</td>\n",
       "      <td>2174</td>\n",
       "      <td>0</td>\n",
       "      <td>40</td>\n",
       "      <td>2174</td>\n",
       "    </tr>\n",
       "  </tbody>\n",
       "</table>\n",
       "</div>"
      ],
      "text/plain": [
       "   Age  Capital_Gain  Capital_Loss  Hours_per_Week  NetCapital\n",
       "0   39          2174             0              40        2174\n",
       "0   39          2174             0              40        2174\n",
       "0   39          2174             0              40        2174\n",
       "0   39          2174             0              40        2174\n",
       "0   39          2174             0              40        2174"
      ]
     },
     "execution_count": 15,
     "metadata": {},
     "output_type": "execute_result"
    }
   ],
   "source": [
    "# Add Net_Capital to num_vars:\n",
    "num_vars.append('NetCapital')\n",
    "data[num_vars].head()"
   ]
  },
  {
   "cell_type": "code",
   "execution_count": 16,
   "id": "1966ce87",
   "metadata": {},
   "outputs": [
    {
     "data": {
      "text/plain": [
       "Age                2228\n",
       "WorkClass             0\n",
       "Final_Weight          0\n",
       "Education             0\n",
       "Edu_Num               0\n",
       "Marital_Status        0\n",
       "Occupation            0\n",
       "Relationship          0\n",
       "Race                  0\n",
       "Sex                   0\n",
       "Capital_Gain       3948\n",
       "Capital_Loss      26524\n",
       "Hours_per_Week     8645\n",
       "Native_Country        0\n",
       "Income                0\n",
       "NetCapital         3948\n",
       "dtype: int64"
      ]
     },
     "execution_count": 16,
     "metadata": {},
     "output_type": "execute_result"
    }
   ],
   "source": [
    "# Find outliers and getting total of outlier in each column:\n",
    "for col in num_vars :\n",
    "    data[col] = np.where(np.abs(data[col] - data[col].mean()) > (3 * data[col].std()), np.nan, data[col])\n",
    "\n",
    "# Number of NA's will tell us number of outliers\n",
    "data.isna().sum()\n",
    "\n",
    "# Alternative way to do outlier detection:\n",
    "    # for col in num_vars :\n",
    "        # outlier_data[col] = np.where(np.abs(outlier_data[col] - outlier_data[col].mean()) > (3 * outlier_data[col].std()), np.nan, outlier_data[col])\n",
    "\n",
    "    # how many na's will tell us number of outliers\n",
    "    # outlier_data.isna().sum()\n",
    "\n",
    "# Outliers are in : Age, Capital_Gain (very high), Capital_Loss, Hours_per_Week"
   ]
  },
  {
   "cell_type": "markdown",
   "id": "90b02a00",
   "metadata": {},
   "source": [
    "### Q7: Impute the missing values."
   ]
  },
  {
   "cell_type": "code",
   "execution_count": 17,
   "id": "07b7c593",
   "metadata": {},
   "outputs": [
    {
     "data": {
      "text/html": [
       "<div>\n",
       "<style scoped>\n",
       "    .dataframe tbody tr th:only-of-type {\n",
       "        vertical-align: middle;\n",
       "    }\n",
       "\n",
       "    .dataframe tbody tr th {\n",
       "        vertical-align: top;\n",
       "    }\n",
       "\n",
       "    .dataframe thead th {\n",
       "        text-align: right;\n",
       "    }\n",
       "</style>\n",
       "<table border=\"1\" class=\"dataframe\">\n",
       "  <thead>\n",
       "    <tr style=\"text-align: right;\">\n",
       "      <th></th>\n",
       "      <th>Age</th>\n",
       "      <th>Capital_Gain</th>\n",
       "      <th>Capital_Loss</th>\n",
       "      <th>Hours_per_Week</th>\n",
       "      <th>NetCapital</th>\n",
       "    </tr>\n",
       "  </thead>\n",
       "  <tbody>\n",
       "    <tr>\n",
       "      <th>min</th>\n",
       "      <td>17.000000</td>\n",
       "      <td>0.000000</td>\n",
       "      <td>0.000000</td>\n",
       "      <td>5.000000</td>\n",
       "      <td>-4356.000000</td>\n",
       "    </tr>\n",
       "    <tr>\n",
       "      <th>max</th>\n",
       "      <td>78.000000</td>\n",
       "      <td>22040.000000</td>\n",
       "      <td>1258.000000</td>\n",
       "      <td>76.000000</td>\n",
       "      <td>22040.000000</td>\n",
       "    </tr>\n",
       "    <tr>\n",
       "      <th>mean</th>\n",
       "      <td>37.813444</td>\n",
       "      <td>540.644605</td>\n",
       "      <td>1.186284</td>\n",
       "      <td>39.990719</td>\n",
       "      <td>455.137842</td>\n",
       "    </tr>\n",
       "    <tr>\n",
       "      <th>median</th>\n",
       "      <td>36.000000</td>\n",
       "      <td>0.000000</td>\n",
       "      <td>0.000000</td>\n",
       "      <td>40.000000</td>\n",
       "      <td>0.000000</td>\n",
       "    </tr>\n",
       "    <tr>\n",
       "      <th>std</th>\n",
       "      <td>13.190230</td>\n",
       "      <td>2277.062317</td>\n",
       "      <td>32.627358</td>\n",
       "      <td>10.920572</td>\n",
       "      <td>2331.474298</td>\n",
       "    </tr>\n",
       "    <tr>\n",
       "      <th>skew</th>\n",
       "      <td>0.512822</td>\n",
       "      <td>5.075867</td>\n",
       "      <td>30.129031</td>\n",
       "      <td>-0.321149</td>\n",
       "      <td>4.785426</td>\n",
       "    </tr>\n",
       "    <tr>\n",
       "      <th>kurtosis</th>\n",
       "      <td>-0.417142</td>\n",
       "      <td>27.624990</td>\n",
       "      <td>960.257910</td>\n",
       "      <td>1.463032</td>\n",
       "      <td>25.618234</td>\n",
       "    </tr>\n",
       "  </tbody>\n",
       "</table>\n",
       "</div>"
      ],
      "text/plain": [
       "                Age  Capital_Gain  Capital_Loss  Hours_per_Week    NetCapital\n",
       "min       17.000000      0.000000      0.000000        5.000000  -4356.000000\n",
       "max       78.000000  22040.000000   1258.000000       76.000000  22040.000000\n",
       "mean      37.813444    540.644605      1.186284       39.990719    455.137842\n",
       "median    36.000000      0.000000      0.000000       40.000000      0.000000\n",
       "std       13.190230   2277.062317     32.627358       10.920572   2331.474298\n",
       "skew       0.512822      5.075867     30.129031       -0.321149      4.785426\n",
       "kurtosis  -0.417142     27.624990    960.257910        1.463032     25.618234"
      ]
     },
     "execution_count": 17,
     "metadata": {},
     "output_type": "execute_result"
    }
   ],
   "source": [
    "# See where the numerical variables stats stand prior to imputation\n",
    "data[num_vars].agg(stats)"
   ]
  },
  {
   "cell_type": "code",
   "execution_count": 18,
   "id": "7d497a32",
   "metadata": {},
   "outputs": [
    {
     "name": "stdout",
     "output_type": "stream",
     "text": [
      "( HS-grad         193717\n",
      " Some-college    133929\n",
      " Bachelors        98016\n",
      " Masters          30134\n",
      " Assoc-voc        24441\n",
      " 11th             22313\n",
      " Assoc-acdm       20112\n",
      " 10th             17915\n",
      " 7th-8th          11831\n",
      " Prof-school      10403\n",
      " 9th              10146\n",
      " 12th              8404\n",
      " 5th-6th           7573\n",
      " Doctorate         7503\n",
      " 1st-4th           3939\n",
      " Preschool         1178\n",
      "Name: Education, dtype: int64, 9     193717\n",
      "10    133929\n",
      "13     98016\n",
      "14     30134\n",
      "11     24441\n",
      "7      22313\n",
      "12     20112\n",
      "6      17915\n",
      "4      11831\n",
      "15     10403\n",
      "5      10146\n",
      "8       8404\n",
      "3       7573\n",
      "16      7503\n",
      "2       3939\n",
      "1       1178\n",
      "Name: Edu_Num, dtype: int64)\n"
     ]
    }
   ],
   "source": [
    "# Before moving forward, let's do some data cleaning\n",
    "print((data['Education'].value_counts(),data['Edu_Num'].value_counts()))\n",
    "\n",
    "# Education and Edu_num are giving the exact same values (i.e., bachelors = 13, both contain 98016)\n",
    "    # Thus we can remove this column and simplify the data\n",
    "data.drop('Edu_Num', axis = 1 , inplace = True)"
   ]
  },
  {
   "cell_type": "code",
   "execution_count": 19,
   "id": "835c9a65",
   "metadata": {},
   "outputs": [
    {
     "name": "stdout",
     "output_type": "stream",
     "text": [
      "---- Age ---\n",
      "23.0    17648\n",
      "31.0    17007\n",
      "36.0    16974\n",
      "33.0    16887\n",
      "34.0    16798\n",
      "        ...  \n",
      "74.0      798\n",
      "76.0      782\n",
      "75.0      712\n",
      "77.0      439\n",
      "78.0      368\n",
      "Name: Age, Length: 62, dtype: int64\n",
      "---- WorkClass ---\n",
      " Private             426048\n",
      " Self-emp-not-inc     43355\n",
      " Local-gov            38426\n",
      " Unknown              33695\n",
      " State-gov            23256\n",
      " Self-emp-inc         19085\n",
      " Federal-gov          17297\n",
      " Without-pay            238\n",
      " Never-worked           154\n",
      "Name: WorkClass, dtype: int64\n",
      "---- Final_Weight ---\n",
      "34.0917    272\n",
      "38.1153    266\n",
      "24.1998    264\n",
      "20.3488    260\n",
      "60.9789    240\n",
      "          ... \n",
      "1.9520       1\n",
      "1.9899       1\n",
      "1.8827       1\n",
      "1.2285       1\n",
      "1.9214       1\n",
      "Name: Final_Weight, Length: 21648, dtype: int64\n",
      "---- Education ---\n",
      " HS-grad         193717\n",
      " Some-college    133929\n",
      " Bachelors        98016\n",
      " Masters          30134\n",
      " Assoc-voc        24441\n",
      " 11th             22313\n",
      " Assoc-acdm       20112\n",
      " 10th             17915\n",
      " 7th-8th          11831\n",
      " Prof-school      10403\n",
      " 9th              10146\n",
      " 12th              8404\n",
      " 5th-6th           7573\n",
      " Doctorate         7503\n",
      " 1st-4th           3939\n",
      " Preschool         1178\n",
      "Name: Education, dtype: int64\n",
      "---- Marital_Status ---\n",
      " Married-civ-spouse       272124\n",
      " Never-married            203392\n",
      " Divorced                  80312\n",
      " Separated                 20652\n",
      " Widowed                   16793\n",
      " Married-spouse-absent      7863\n",
      " Married-AF-spouse           418\n",
      "Name: Marital_Status, dtype: int64\n",
      "---- Occupation ---\n",
      " Craft-repair         76689\n",
      " Prof-specialty       74633\n",
      " Exec-managerial      72954\n",
      " Adm-clerical         70507\n",
      " Sales                67836\n",
      " Other-service        60498\n",
      " Machine-op-inspct    38035\n",
      " Unknown              33849\n",
      " Transport-moving     29586\n",
      " Handlers-cleaners    27310\n",
      " Tech-support         17350\n",
      " Farming-fishing      16421\n",
      " Protective-serv      12776\n",
      " Priv-house-serv       2920\n",
      " Armed-Forces           190\n",
      "Name: Occupation, dtype: int64\n",
      "---- Relationship ---\n",
      " Husband           240154\n",
      " Not-in-family     154585\n",
      " Own-child          95385\n",
      " Unmarried          64103\n",
      " Wife               27701\n",
      " Other-relative     19626\n",
      "Name: Relationship, dtype: int64\n",
      "---- Race ---\n",
      " White                 506980\n",
      " Black                  69649\n",
      " Asian-Pac-Islander     16121\n",
      " Other                   5202\n",
      " Amer-Indian-Eskimo      3602\n",
      "Name: Race, dtype: int64\n",
      "---- Sex ---\n",
      " Male      406921\n",
      " Female    194633\n",
      "Name: Sex, dtype: int64\n",
      "---- Capital_Gain ---\n",
      "0.0        551935\n",
      "15024.0      6440\n",
      "7688.0       5011\n",
      "7298.0       4434\n",
      "5178.0       1778\n",
      "            ...  \n",
      "1455.0         15\n",
      "2387.0         13\n",
      "1639.0         10\n",
      "7978.0         10\n",
      "22040.0         3\n",
      "Name: Capital_Gain, Length: 113, dtype: int64\n",
      "---- Capital_Loss ---\n",
      "0.0       574139\n",
      "625.0        214\n",
      "1092.0       140\n",
      "880.0        129\n",
      "1258.0        86\n",
      "419.0         71\n",
      "213.0         69\n",
      "653.0         39\n",
      "1138.0        39\n",
      "323.0         38\n",
      "810.0         34\n",
      "974.0         18\n",
      "155.0         14\n",
      "Name: Capital_Loss, dtype: int64\n",
      "---- Hours_per_Week ---\n",
      "40.0    286665\n",
      "50.0     51472\n",
      "45.0     33283\n",
      "60.0     25839\n",
      "35.0     23995\n",
      "         ...  \n",
      "67.0        69\n",
      "76.0        51\n",
      "73.0        34\n",
      "61.0        25\n",
      "74.0        13\n",
      "Name: Hours_per_Week, Length: 70, dtype: int64\n",
      "---- Native_Country ---\n",
      " United-States                 531003\n",
      " Mexico                         18290\n",
      " Unknown                        10966\n",
      " Philippines                     3197\n",
      " El-Salvador                     2644\n",
      " Germany                         2528\n",
      " Cuba                            2293\n",
      " Puerto-Rico                     2246\n",
      " Canada                          2112\n",
      " Jamaica                         1678\n",
      " Guatemala                       1664\n",
      " India                           1636\n",
      " England                         1595\n",
      " Dominican-Republic              1311\n",
      " China                           1311\n",
      " Columbia                        1300\n",
      " Italy                           1292\n",
      " South                           1272\n",
      " Japan                           1121\n",
      " Poland                          1076\n",
      " Vietnam                         1061\n",
      " Nicaragua                        984\n",
      " Taiwan                           926\n",
      " Haiti                            897\n",
      " Peru                             836\n",
      " Iran                             763\n",
      " France                           542\n",
      " Portugal                         531\n",
      " Ecuador                          505\n",
      " Hong                             433\n",
      " Greece                           402\n",
      " Trinadad&Tobago                  395\n",
      " Laos                             370\n",
      " Cambodia                         359\n",
      " Yugoslavia                       339\n",
      " Honduras                         326\n",
      " Thailand                         323\n",
      " Ireland                          320\n",
      " Outlying-US(Guam-USVI-etc)       279\n",
      " Hungary                          228\n",
      " Scotland                         198\n",
      " Holand-Netherlands                 2\n",
      "Name: Native_Country, dtype: int64\n",
      "---- Income ---\n",
      " <=50K    458086\n",
      " >50K     143468\n",
      "Name: Income, dtype: int64\n",
      "---- NetCapital ---\n",
      " 0.0        524520\n",
      " 15024.0      6440\n",
      " 7688.0       5011\n",
      " 7298.0       4434\n",
      "-1902.0       3745\n",
      "             ...  \n",
      "-1411.0         10\n",
      "-2754.0          9\n",
      "-1944.0          7\n",
      " 22040.0         3\n",
      "-2201.0          2\n",
      "Name: NetCapital, Length: 204, dtype: int64\n"
     ]
    }
   ],
   "source": [
    "for c in data.columns:\n",
    "    print (\"---- %s ---\" % c)\n",
    "    print (data[c].value_counts())"
   ]
  },
  {
   "cell_type": "code",
   "execution_count": 20,
   "id": "9244f66e",
   "metadata": {},
   "outputs": [
    {
     "data": {
      "text/html": [
       "<div>\n",
       "<style scoped>\n",
       "    .dataframe tbody tr th:only-of-type {\n",
       "        vertical-align: middle;\n",
       "    }\n",
       "\n",
       "    .dataframe tbody tr th {\n",
       "        vertical-align: top;\n",
       "    }\n",
       "\n",
       "    .dataframe thead th {\n",
       "        text-align: right;\n",
       "    }\n",
       "</style>\n",
       "<table border=\"1\" class=\"dataframe\">\n",
       "  <thead>\n",
       "    <tr style=\"text-align: right;\">\n",
       "      <th></th>\n",
       "      <th>Age</th>\n",
       "      <th>WorkClass</th>\n",
       "      <th>Education</th>\n",
       "      <th>Marital_Status</th>\n",
       "      <th>Occupation</th>\n",
       "      <th>Relationship</th>\n",
       "      <th>Race</th>\n",
       "      <th>Sex</th>\n",
       "      <th>Capital_Gain</th>\n",
       "      <th>Capital_Loss</th>\n",
       "      <th>Hours_per_Week</th>\n",
       "      <th>Native_Country</th>\n",
       "      <th>Income</th>\n",
       "      <th>NetCapital</th>\n",
       "    </tr>\n",
       "  </thead>\n",
       "  <tbody>\n",
       "    <tr>\n",
       "      <th>0</th>\n",
       "      <td>39.0</td>\n",
       "      <td>State-gov</td>\n",
       "      <td>Bachelors</td>\n",
       "      <td>Never-married</td>\n",
       "      <td>Adm-clerical</td>\n",
       "      <td>Not-in-family</td>\n",
       "      <td>White</td>\n",
       "      <td>Male</td>\n",
       "      <td>2174.0</td>\n",
       "      <td>0.0</td>\n",
       "      <td>40.0</td>\n",
       "      <td>United-States</td>\n",
       "      <td>&lt;=50K</td>\n",
       "      <td>2174.0</td>\n",
       "    </tr>\n",
       "    <tr>\n",
       "      <th>0</th>\n",
       "      <td>39.0</td>\n",
       "      <td>State-gov</td>\n",
       "      <td>Bachelors</td>\n",
       "      <td>Never-married</td>\n",
       "      <td>Adm-clerical</td>\n",
       "      <td>Not-in-family</td>\n",
       "      <td>White</td>\n",
       "      <td>Male</td>\n",
       "      <td>2174.0</td>\n",
       "      <td>0.0</td>\n",
       "      <td>40.0</td>\n",
       "      <td>United-States</td>\n",
       "      <td>&lt;=50K</td>\n",
       "      <td>2174.0</td>\n",
       "    </tr>\n",
       "  </tbody>\n",
       "</table>\n",
       "</div>"
      ],
      "text/plain": [
       "    Age   WorkClass   Education  Marital_Status     Occupation  \\\n",
       "0  39.0   State-gov   Bachelors   Never-married   Adm-clerical   \n",
       "0  39.0   State-gov   Bachelors   Never-married   Adm-clerical   \n",
       "\n",
       "     Relationship    Race    Sex  Capital_Gain  Capital_Loss  Hours_per_Week  \\\n",
       "0   Not-in-family   White   Male        2174.0           0.0            40.0   \n",
       "0   Not-in-family   White   Male        2174.0           0.0            40.0   \n",
       "\n",
       "   Native_Country  Income  NetCapital  \n",
       "0   United-States   <=50K      2174.0  \n",
       "0   United-States   <=50K      2174.0  "
      ]
     },
     "execution_count": 20,
     "metadata": {},
     "output_type": "execute_result"
    }
   ],
   "source": [
    "# Feature Engineering : We can see that some of the data provided are unique; ‘workclass’ attribute which has only 9 distinct values\n",
    "    # Some columns have a lot of distinct values like Final_Weight which has around 2000\n",
    "    # This is of no use to us, thus we can drop it\n",
    "data.drop('Final_Weight', axis = 1, inplace = True)\n",
    "data.head(2)"
   ]
  },
  {
   "cell_type": "code",
   "execution_count": 21,
   "id": "f016ee4d",
   "metadata": {},
   "outputs": [
    {
     "name": "stdout",
     "output_type": "stream",
     "text": [
      "<class 'pandas.core.frame.DataFrame'>\n",
      "Int64Index: 601554 entries, 0 to 32560\n",
      "Data columns (total 14 columns):\n",
      " #   Column          Non-Null Count   Dtype  \n",
      "---  ------          --------------   -----  \n",
      " 0   Age             599326 non-null  float64\n",
      " 1   WorkClass       601554 non-null  object \n",
      " 2   Education       601554 non-null  object \n",
      " 3   Marital_Status  601554 non-null  object \n",
      " 4   Occupation      601554 non-null  object \n",
      " 5   Relationship    601554 non-null  object \n",
      " 6   Race            601554 non-null  object \n",
      " 7   Sex             601554 non-null  object \n",
      " 8   Capital_Gain    597606 non-null  float64\n",
      " 9   Capital_Loss    575030 non-null  float64\n",
      " 10  Hours_per_Week  592909 non-null  float64\n",
      " 11  Native_Country  601554 non-null  object \n",
      " 12  Income          601554 non-null  object \n",
      " 13  NetCapital      601554 non-null  int32  \n",
      "dtypes: float64(4), int32(1), object(9)\n",
      "memory usage: 66.5+ MB\n"
     ]
    }
   ],
   "source": [
    "# We can change NetCapital into a binary variable, this will solve the outliers problem:\n",
    "data['NetCapital'] = data['NetCapital'].astype('bool') * 1\n",
    "data['NetCapital'].value_counts()\n",
    "data.info()"
   ]
  },
  {
   "cell_type": "code",
   "execution_count": 22,
   "id": "f082c3c4",
   "metadata": {},
   "outputs": [
    {
     "data": {
      "text/html": [
       "<div>\n",
       "<style scoped>\n",
       "    .dataframe tbody tr th:only-of-type {\n",
       "        vertical-align: middle;\n",
       "    }\n",
       "\n",
       "    .dataframe tbody tr th {\n",
       "        vertical-align: top;\n",
       "    }\n",
       "\n",
       "    .dataframe thead th {\n",
       "        text-align: right;\n",
       "    }\n",
       "</style>\n",
       "<table border=\"1\" class=\"dataframe\">\n",
       "  <thead>\n",
       "    <tr style=\"text-align: right;\">\n",
       "      <th></th>\n",
       "      <th>Age</th>\n",
       "      <th>Capital_Gain</th>\n",
       "      <th>Capital_Loss</th>\n",
       "      <th>Hours_per_Week</th>\n",
       "      <th>NetCapital</th>\n",
       "      <th>NetCapital</th>\n",
       "    </tr>\n",
       "  </thead>\n",
       "  <tbody>\n",
       "    <tr>\n",
       "      <th>min</th>\n",
       "      <td>17.000000</td>\n",
       "      <td>0.000000</td>\n",
       "      <td>0.000000</td>\n",
       "      <td>5.000000</td>\n",
       "      <td>0.000000</td>\n",
       "      <td>0.000000</td>\n",
       "    </tr>\n",
       "    <tr>\n",
       "      <th>max</th>\n",
       "      <td>78.000000</td>\n",
       "      <td>22040.000000</td>\n",
       "      <td>1258.000000</td>\n",
       "      <td>76.000000</td>\n",
       "      <td>1.000000</td>\n",
       "      <td>1.000000</td>\n",
       "    </tr>\n",
       "    <tr>\n",
       "      <th>mean</th>\n",
       "      <td>37.813444</td>\n",
       "      <td>540.644605</td>\n",
       "      <td>1.186284</td>\n",
       "      <td>39.990719</td>\n",
       "      <td>0.128058</td>\n",
       "      <td>0.128058</td>\n",
       "    </tr>\n",
       "    <tr>\n",
       "      <th>median</th>\n",
       "      <td>36.000000</td>\n",
       "      <td>0.000000</td>\n",
       "      <td>0.000000</td>\n",
       "      <td>40.000000</td>\n",
       "      <td>0.000000</td>\n",
       "      <td>0.000000</td>\n",
       "    </tr>\n",
       "    <tr>\n",
       "      <th>std</th>\n",
       "      <td>13.190230</td>\n",
       "      <td>2277.062317</td>\n",
       "      <td>32.627358</td>\n",
       "      <td>10.920572</td>\n",
       "      <td>0.334155</td>\n",
       "      <td>0.334155</td>\n",
       "    </tr>\n",
       "    <tr>\n",
       "      <th>skew</th>\n",
       "      <td>0.512822</td>\n",
       "      <td>5.075867</td>\n",
       "      <td>30.129031</td>\n",
       "      <td>-0.321149</td>\n",
       "      <td>2.226170</td>\n",
       "      <td>2.226170</td>\n",
       "    </tr>\n",
       "    <tr>\n",
       "      <th>kurtosis</th>\n",
       "      <td>-0.417142</td>\n",
       "      <td>27.624990</td>\n",
       "      <td>960.257910</td>\n",
       "      <td>1.463032</td>\n",
       "      <td>2.955842</td>\n",
       "      <td>2.955842</td>\n",
       "    </tr>\n",
       "  </tbody>\n",
       "</table>\n",
       "</div>"
      ],
      "text/plain": [
       "                Age  Capital_Gain  Capital_Loss  Hours_per_Week  NetCapital  \\\n",
       "min       17.000000      0.000000      0.000000        5.000000    0.000000   \n",
       "max       78.000000  22040.000000   1258.000000       76.000000    1.000000   \n",
       "mean      37.813444    540.644605      1.186284       39.990719    0.128058   \n",
       "median    36.000000      0.000000      0.000000       40.000000    0.000000   \n",
       "std       13.190230   2277.062317     32.627358       10.920572    0.334155   \n",
       "skew       0.512822      5.075867     30.129031       -0.321149    2.226170   \n",
       "kurtosis  -0.417142     27.624990    960.257910        1.463032    2.955842   \n",
       "\n",
       "          NetCapital  \n",
       "min         0.000000  \n",
       "max         1.000000  \n",
       "mean        0.128058  \n",
       "median      0.000000  \n",
       "std         0.334155  \n",
       "skew        2.226170  \n",
       "kurtosis    2.955842  "
      ]
     },
     "execution_count": 22,
     "metadata": {},
     "output_type": "execute_result"
    }
   ],
   "source": [
    "# Verify outliers in NetCapital\n",
    "num_vars.append('NetCapital')\n",
    "\n",
    "data[num_vars].agg(stats)\n",
    "\n",
    "# NetCapital data now looks good to use\n",
    "    # NetCapital = 0 , there is No Impact or a Capital Loss (massive majority are No Impact)\n",
    "    # NetCapital = 1 , there is Capital Gain\n",
    "# Going foward, we will drop the Capital_Gain and Capital_Loss variables"
   ]
  },
  {
   "cell_type": "code",
   "execution_count": 23,
   "id": "78840d21",
   "metadata": {},
   "outputs": [
    {
     "data": {
      "text/html": [
       "<div>\n",
       "<style scoped>\n",
       "    .dataframe tbody tr th:only-of-type {\n",
       "        vertical-align: middle;\n",
       "    }\n",
       "\n",
       "    .dataframe tbody tr th {\n",
       "        vertical-align: top;\n",
       "    }\n",
       "\n",
       "    .dataframe thead th {\n",
       "        text-align: right;\n",
       "    }\n",
       "</style>\n",
       "<table border=\"1\" class=\"dataframe\">\n",
       "  <thead>\n",
       "    <tr style=\"text-align: right;\">\n",
       "      <th></th>\n",
       "      <th>Age</th>\n",
       "      <th>WorkClass</th>\n",
       "      <th>Education</th>\n",
       "      <th>Marital_Status</th>\n",
       "      <th>Occupation</th>\n",
       "      <th>Relationship</th>\n",
       "      <th>Race</th>\n",
       "      <th>Sex</th>\n",
       "      <th>Hours_per_Week</th>\n",
       "      <th>Native_Country</th>\n",
       "      <th>Income</th>\n",
       "      <th>NetCapital</th>\n",
       "    </tr>\n",
       "  </thead>\n",
       "  <tbody>\n",
       "    <tr>\n",
       "      <th>0</th>\n",
       "      <td>39.0</td>\n",
       "      <td>State-gov</td>\n",
       "      <td>Bachelors</td>\n",
       "      <td>Never-married</td>\n",
       "      <td>Adm-clerical</td>\n",
       "      <td>Not-in-family</td>\n",
       "      <td>White</td>\n",
       "      <td>Male</td>\n",
       "      <td>40.0</td>\n",
       "      <td>United-States</td>\n",
       "      <td>&lt;=50K</td>\n",
       "      <td>1</td>\n",
       "    </tr>\n",
       "    <tr>\n",
       "      <th>0</th>\n",
       "      <td>39.0</td>\n",
       "      <td>State-gov</td>\n",
       "      <td>Bachelors</td>\n",
       "      <td>Never-married</td>\n",
       "      <td>Adm-clerical</td>\n",
       "      <td>Not-in-family</td>\n",
       "      <td>White</td>\n",
       "      <td>Male</td>\n",
       "      <td>40.0</td>\n",
       "      <td>United-States</td>\n",
       "      <td>&lt;=50K</td>\n",
       "      <td>1</td>\n",
       "    </tr>\n",
       "  </tbody>\n",
       "</table>\n",
       "</div>"
      ],
      "text/plain": [
       "    Age   WorkClass   Education  Marital_Status     Occupation  \\\n",
       "0  39.0   State-gov   Bachelors   Never-married   Adm-clerical   \n",
       "0  39.0   State-gov   Bachelors   Never-married   Adm-clerical   \n",
       "\n",
       "     Relationship    Race    Sex  Hours_per_Week  Native_Country  Income  \\\n",
       "0   Not-in-family   White   Male            40.0   United-States   <=50K   \n",
       "0   Not-in-family   White   Male            40.0   United-States   <=50K   \n",
       "\n",
       "   NetCapital  \n",
       "0           1  \n",
       "0           1  "
      ]
     },
     "execution_count": 23,
     "metadata": {},
     "output_type": "execute_result"
    }
   ],
   "source": [
    "# Drop capital gain and loss\n",
    "data.drop(['Capital_Gain', 'Capital_Loss'], axis = 1, inplace = True)\n",
    "data.head(2)"
   ]
  },
  {
   "cell_type": "code",
   "execution_count": 24,
   "id": "f19ff93b",
   "metadata": {},
   "outputs": [],
   "source": [
    "# Using interpolation method to replace the missing values in Age and Hours_per_Week. \n",
    "    # This is to avoid the data getting replaced with values higher than the variable mean\n",
    "    \n",
    "# We will use the nearest method for better accuracy\n",
    "interp_vars = ['Age', 'Hours_per_Week']\n",
    "for cols in interp_vars:\n",
    "    data[interp_vars].interpolate(method='nearest', limit_direction = 'both')"
   ]
  },
  {
   "cell_type": "code",
   "execution_count": 25,
   "id": "a8cf5d30",
   "metadata": {},
   "outputs": [
    {
     "data": {
      "text/plain": [
       "Age               0\n",
       "WorkClass         0\n",
       "Education         0\n",
       "Marital_Status    0\n",
       "Occupation        0\n",
       "Relationship      0\n",
       "Race              0\n",
       "Sex               0\n",
       "Hours_per_Week    0\n",
       "Native_Country    0\n",
       "Income            0\n",
       "NetCapital        0\n",
       "dtype: int64"
      ]
     },
     "execution_count": 25,
     "metadata": {},
     "output_type": "execute_result"
    }
   ],
   "source": [
    "impute_vars = ['Age', 'Hours_per_Week']\n",
    "\n",
    "for v in impute_vars:\n",
    "    data[v].fillna(value = data[v].mean(), inplace = True)\n",
    "    \n",
    "data.isnull().sum()"
   ]
  },
  {
   "cell_type": "code",
   "execution_count": 26,
   "id": "a66dc3c5",
   "metadata": {},
   "outputs": [
    {
     "data": {
      "text/html": [
       "<div>\n",
       "<style scoped>\n",
       "    .dataframe tbody tr th:only-of-type {\n",
       "        vertical-align: middle;\n",
       "    }\n",
       "\n",
       "    .dataframe tbody tr th {\n",
       "        vertical-align: top;\n",
       "    }\n",
       "\n",
       "    .dataframe thead th {\n",
       "        text-align: right;\n",
       "    }\n",
       "</style>\n",
       "<table border=\"1\" class=\"dataframe\">\n",
       "  <thead>\n",
       "    <tr style=\"text-align: right;\">\n",
       "      <th></th>\n",
       "      <th>Age</th>\n",
       "      <th>Hours_per_Week</th>\n",
       "      <th>NetCapital</th>\n",
       "    </tr>\n",
       "  </thead>\n",
       "  <tbody>\n",
       "    <tr>\n",
       "      <th>min</th>\n",
       "      <td>17.000000</td>\n",
       "      <td>5.000000</td>\n",
       "      <td>0.000000</td>\n",
       "    </tr>\n",
       "    <tr>\n",
       "      <th>max</th>\n",
       "      <td>78.000000</td>\n",
       "      <td>76.000000</td>\n",
       "      <td>1.000000</td>\n",
       "    </tr>\n",
       "    <tr>\n",
       "      <th>mean</th>\n",
       "      <td>37.813444</td>\n",
       "      <td>39.990719</td>\n",
       "      <td>0.128058</td>\n",
       "    </tr>\n",
       "    <tr>\n",
       "      <th>median</th>\n",
       "      <td>36.000000</td>\n",
       "      <td>40.000000</td>\n",
       "      <td>0.000000</td>\n",
       "    </tr>\n",
       "    <tr>\n",
       "      <th>std</th>\n",
       "      <td>13.165781</td>\n",
       "      <td>10.841818</td>\n",
       "      <td>0.334155</td>\n",
       "    </tr>\n",
       "    <tr>\n",
       "      <th>skew</th>\n",
       "      <td>0.513774</td>\n",
       "      <td>-0.323482</td>\n",
       "      <td>2.226170</td>\n",
       "    </tr>\n",
       "    <tr>\n",
       "      <th>kurtosis</th>\n",
       "      <td>-0.407540</td>\n",
       "      <td>1.528106</td>\n",
       "      <td>2.955842</td>\n",
       "    </tr>\n",
       "  </tbody>\n",
       "</table>\n",
       "</div>"
      ],
      "text/plain": [
       "                Age  Hours_per_Week  NetCapital\n",
       "min       17.000000        5.000000    0.000000\n",
       "max       78.000000       76.000000    1.000000\n",
       "mean      37.813444       39.990719    0.128058\n",
       "median    36.000000       40.000000    0.000000\n",
       "std       13.165781       10.841818    0.334155\n",
       "skew       0.513774       -0.323482    2.226170\n",
       "kurtosis  -0.407540        1.528106    2.955842"
      ]
     },
     "execution_count": 26,
     "metadata": {},
     "output_type": "execute_result"
    }
   ],
   "source": [
    "# Confirm kurtosis values are all under 3\n",
    "num_vars_new = ['Age', 'Hours_per_Week', 'NetCapital']\n",
    "data[num_vars_new].agg(stats)"
   ]
  },
  {
   "cell_type": "code",
   "execution_count": 27,
   "id": "006ac685",
   "metadata": {},
   "outputs": [
    {
     "name": "stdout",
     "output_type": "stream",
     "text": [
      "<class 'pandas.core.frame.DataFrame'>\n",
      "Int64Index: 601554 entries, 0 to 32560\n",
      "Data columns (total 12 columns):\n",
      " #   Column          Non-Null Count   Dtype  \n",
      "---  ------          --------------   -----  \n",
      " 0   Age             601554 non-null  float64\n",
      " 1   WorkClass       601554 non-null  object \n",
      " 2   Education       601554 non-null  object \n",
      " 3   Marital_Status  601554 non-null  object \n",
      " 4   Occupation      601554 non-null  object \n",
      " 5   Relationship    601554 non-null  object \n",
      " 6   Race            601554 non-null  object \n",
      " 7   Sex             601554 non-null  object \n",
      " 8   Hours_per_Week  601554 non-null  float64\n",
      " 9   Native_Country  601554 non-null  object \n",
      " 10  Income          601554 non-null  object \n",
      " 11  NetCapital      601554 non-null  int32  \n",
      "dtypes: float64(2), int32(1), object(9)\n",
      "memory usage: 57.4+ MB\n"
     ]
    }
   ],
   "source": [
    "# Confirming remaining 12 variables have the same observation totals\n",
    "data.info()"
   ]
  },
  {
   "cell_type": "markdown",
   "id": "358a7f44",
   "metadata": {},
   "source": [
    "### Q8: Produce a histogram or boxplot for each of the numeric variables."
   ]
  },
  {
   "cell_type": "code",
   "execution_count": 28,
   "id": "0a178602",
   "metadata": {},
   "outputs": [
    {
     "data": {
      "image/png": "[encoded data removed]",
      "text/plain": [
       "<Figure size 864x864 with 4 Axes>"
      ]
     },
     "metadata": {
      "needs_background": "light"
     },
     "output_type": "display_data"
    }
   ],
   "source": [
    "# All categorial variables\n",
    "cat_col = data.dtypes[data.dtypes == 'object']\n",
    "\n",
    "# All numeric variables\n",
    "num_col = data.dtypes[data.dtypes != 'object']\n",
    "\n",
    "#Histograms of numeric variables\n",
    "data[list(num_col.index)].hist(figsize = (12,12));"
   ]
  },
  {
   "cell_type": "markdown",
   "id": "c83ed9dd",
   "metadata": {},
   "source": [
    "### Q9: Produce a bar chart for each of the categorical variables showing the counts for each unique value."
   ]
  },
  {
   "cell_type": "code",
   "execution_count": 29,
   "id": "1b02d337",
   "metadata": {},
   "outputs": [
    {
     "data": {
      "text/plain": [
       "WorkClass         object\n",
       "Education         object\n",
       "Marital_Status    object\n",
       "Occupation        object\n",
       "Relationship      object\n",
       "Race              object\n",
       "Sex               object\n",
       "Native_Country    object\n",
       "Income            object\n",
       "dtype: object"
      ]
     },
     "execution_count": 29,
     "metadata": {},
     "output_type": "execute_result"
    }
   ],
   "source": [
    "cat_col = data.dtypes[data.dtypes == 'object']\n",
    "cat_col\n",
    "# Categorical Variables: WorkClass  Education  Martial_Status  Occupation  Relationship  Race  Sex  Native_Country  Income   "
   ]
  },
  {
   "cell_type": "code",
   "execution_count": 30,
   "id": "b959a73a",
   "metadata": {},
   "outputs": [
    {
     "data": {
      "text/plain": [
       "Text(0.5, 1.0, 'WorkClass')"
      ]
     },
     "execution_count": 30,
     "metadata": {},
     "output_type": "execute_result"
    },
    {
     "data": {
      "image/png": "[encoded data removed]",
      "text/plain": [
       "<Figure size 432x288 with 1 Axes>"
      ]
     },
     "metadata": {
      "needs_background": "light"
     },
     "output_type": "display_data"
    }
   ],
   "source": [
    "bar1 = pd.value_counts(data['WorkClass']).plot.bar()\n",
    "bar1.set_ylabel(\"Count\")\n",
    "bar1.set_title(\"WorkClass\")"
   ]
  },
  {
   "cell_type": "code",
   "execution_count": 31,
   "id": "84cdb721",
   "metadata": {},
   "outputs": [
    {
     "data": {
      "text/plain": [
       "Text(0.5, 1.0, 'Education')"
      ]
     },
     "execution_count": 31,
     "metadata": {},
     "output_type": "execute_result"
    },
    {
     "data": {
      "image/png": "[encoded data removed]",
      "text/plain": [
       "<Figure size 432x288 with 1 Axes>"
      ]
     },
     "metadata": {
      "needs_background": "light"
     },
     "output_type": "display_data"
    }
   ],
   "source": [
    "bar2= pd.value_counts(data['Education']).plot.bar()\n",
    "bar2.set_ylabel(\"Count\")\n",
    "bar2.set_title(\"Education\")"
   ]
  },
  {
   "cell_type": "code",
   "execution_count": 32,
   "id": "f2b061f9",
   "metadata": {},
   "outputs": [
    {
     "data": {
      "text/plain": [
       "Text(0.5, 1.0, 'Marital Status')"
      ]
     },
     "execution_count": 32,
     "metadata": {},
     "output_type": "execute_result"
    },
    {
     "data": {
      "image/png": "[encoded data removed]",
      "text/plain": [
       "<Figure size 432x288 with 1 Axes>"
      ]
     },
     "metadata": {
      "needs_background": "light"
     },
     "output_type": "display_data"
    }
   ],
   "source": [
    "bar3= pd.value_counts(data['Marital_Status']).plot.bar()\n",
    "bar3.set_ylabel(\"Count\")\n",
    "bar3.set_title(\"Marital Status\")"
   ]
  },
  {
   "cell_type": "code",
   "execution_count": 33,
   "id": "02fee3d7",
   "metadata": {},
   "outputs": [
    {
     "data": {
      "text/plain": [
       "Text(0.5, 1.0, 'Occupation')"
      ]
     },
     "execution_count": 33,
     "metadata": {},
     "output_type": "execute_result"
    },
    {
     "data": {
      "image/png": "[encoded data removed]",
      "text/plain": [
       "<Figure size 432x288 with 1 Axes>"
      ]
     },
     "metadata": {
      "needs_background": "light"
     },
     "output_type": "display_data"
    }
   ],
   "source": [
    "bar4= pd.value_counts(data['Occupation']).plot.bar()\n",
    "bar4.set_ylabel(\"Count\")\n",
    "bar4.set_title(\"Occupation\")"
   ]
  },
  {
   "cell_type": "code",
   "execution_count": 34,
   "id": "a30c1320",
   "metadata": {},
   "outputs": [
    {
     "data": {
      "text/plain": [
       "Text(0.5, 1.0, 'Relationship')"
      ]
     },
     "execution_count": 34,
     "metadata": {},
     "output_type": "execute_result"
    },
    {
     "data": {
      "image/png": "[encoded data removed]",
      "text/plain": [
       "<Figure size 432x288 with 1 Axes>"
      ]
     },
     "metadata": {
      "needs_background": "light"
     },
     "output_type": "display_data"
    }
   ],
   "source": [
    "bar5= pd.value_counts(data['Relationship']).plot.bar()\n",
    "bar5.set_ylabel(\"Count\")\n",
    "bar5.set_title(\"Relationship\")"
   ]
  },
  {
   "cell_type": "code",
   "execution_count": 35,
   "id": "f4f7c137",
   "metadata": {},
   "outputs": [
    {
     "data": {
      "text/plain": [
       "Text(0.5, 1.0, 'Race')"
      ]
     },
     "execution_count": 35,
     "metadata": {},
     "output_type": "execute_result"
    },
    {
     "data": {
      "image/png": "[encoded data removed]",
      "text/plain": [
       "<Figure size 432x288 with 1 Axes>"
      ]
     },
     "metadata": {
      "needs_background": "light"
     },
     "output_type": "display_data"
    }
   ],
   "source": [
    "bar6=pd.value_counts(data['Race']).plot.bar()\n",
    "bar6.set_ylabel(\"Count\")\n",
    "bar6.set_title(\"Race\")"
   ]
  },
  {
   "cell_type": "code",
   "execution_count": 36,
   "id": "329386f2",
   "metadata": {},
   "outputs": [
    {
     "data": {
      "text/plain": [
       "Text(0.5, 1.0, 'Sex')"
      ]
     },
     "execution_count": 36,
     "metadata": {},
     "output_type": "execute_result"
    },
    {
     "data": {
      "image/png": "[encoded data removed]",
      "text/plain": [
       "<Figure size 432x288 with 1 Axes>"
      ]
     },
     "metadata": {
      "needs_background": "light"
     },
     "output_type": "display_data"
    }
   ],
   "source": [
    "bar6=pd.value_counts(data['Sex']).plot.bar()\n",
    "bar6.set_ylabel(\"Sex\")\n",
    "bar6.set_title(\"Sex\")"
   ]
  },
  {
   "cell_type": "code",
   "execution_count": 37,
   "id": "c756d990",
   "metadata": {},
   "outputs": [
    {
     "data": {
      "text/plain": [
       "Text(0.5, 1.0, 'Native_Country')"
      ]
     },
     "execution_count": 37,
     "metadata": {},
     "output_type": "execute_result"
    },
    {
     "data": {
      "image/png": "[encoded data removed]",
      "text/plain": [
       "<Figure size 432x288 with 1 Axes>"
      ]
     },
     "metadata": {
      "needs_background": "light"
     },
     "output_type": "display_data"
    }
   ],
   "source": [
    "bar6=pd.value_counts(data['Native_Country']).plot.bar()\n",
    "bar6.set_ylabel(\"Count\")\n",
    "bar6.set_title(\"Native_Country\")"
   ]
  },
  {
   "cell_type": "code",
   "execution_count": 38,
   "id": "c250aabf",
   "metadata": {},
   "outputs": [
    {
     "data": {
      "text/plain": [
       "Text(0.5, 1.0, 'Income')"
      ]
     },
     "execution_count": 38,
     "metadata": {},
     "output_type": "execute_result"
    },
    {
     "data": {
      "image/png": "[encoded data removed]",
      "text/plain": [
       "<Figure size 432x288 with 1 Axes>"
      ]
     },
     "metadata": {
      "needs_background": "light"
     },
     "output_type": "display_data"
    }
   ],
   "source": [
    "bar6=pd.value_counts(data['Income']).plot.bar()\n",
    "bar6.set_ylabel(\"Count\")\n",
    "bar6.set_title(\"Income\")"
   ]
  },
  {
   "cell_type": "code",
   "execution_count": 39,
   "id": "53029441",
   "metadata": {},
   "outputs": [],
   "source": [
    "# Create CSV of cleaned data \n",
    "    # data.to_csv (r'C:\\Users\\alexg\\Documents\\ITOM6267\\Data Files\\adultClean.csv', index = False, header=True)"
   ]
  }
 ],
 "metadata": {
  "kernelspec": {
   "display_name": "Python 3 (ipykernel)",
   "language": "python",
   "name": "python3"
  },
  "language_info": {
   "codemirror_mode": {
    "name": "ipython",
    "version": 3
   },
   "file_extension": ".py",
   "mimetype": "text/x-python",
   "name": "python",
   "nbconvert_exporter": "python",
   "pygments_lexer": "ipython3",
   "version": "3.9.12"
  }
 },
 "nbformat": 4,
 "nbformat_minor": 5
}
